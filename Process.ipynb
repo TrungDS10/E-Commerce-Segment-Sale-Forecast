{
 "cells": [
  {
   "cell_type": "markdown",
   "metadata": {
    "_uuid": "f5e27eb3130f947276d276a1bfb83c0f2640c4e6"
   },
   "source": [
    "Importing the useful libraries"
   ]
  },
  {
   "cell_type": "code",
   "execution_count": 100,
   "metadata": {
    "_kg_hide-input": true,
    "_uuid": "bc8f2573c61bd8a8ef4dfb751c8a67c4f898adf2"
   },
   "outputs": [],
   "source": [
    "# Importation of useful libraries\n",
    "import pandas as pd\n",
    "import numpy as np\n",
    "import matplotlib.pyplot as plt\n",
    "import seaborn as sns\n",
    "import datetime as dt\n",
    "from sklearn.cluster import KMeans\n",
    "from sklearn import metrics\n",
    "from sklearn.preprocessing import StandardScaler\n",
    "import warnings\n",
    "warnings.filterwarnings(\"ignore\")\n"
   ]
  },
  {
   "cell_type": "markdown",
   "metadata": {
    "_uuid": "0b372d5e82e2df1b10aeffaa24098a94ccceb63c"
   },
   "source": [
    "**1.1 Cleaning the data**"
   ]
  },
  {
   "cell_type": "code",
   "execution_count": 101,
   "metadata": {
    "_uuid": "e73e72e929294d1eb73bd21aae78adc502a0d414"
   },
   "outputs": [],
   "source": [
    "# Importing the database \n",
    "data = pd.read_csv(\"data.csv\", encoding=\"ISO-8859-1\", dtype={'CustomerID': str,'InvoiceID': str})"
   ]
  },
  {
   "cell_type": "code",
   "execution_count": 102,
   "metadata": {
    "_uuid": "f45780aa3a27435052dd9ce1911bf14487cd2c70",
    "scrolled": true
   },
   "outputs": [
    {
     "data": {
      "text/html": [
       "<div>\n",
       "<style scoped>\n",
       "    .dataframe tbody tr th:only-of-type {\n",
       "        vertical-align: middle;\n",
       "    }\n",
       "\n",
       "    .dataframe tbody tr th {\n",
       "        vertical-align: top;\n",
       "    }\n",
       "\n",
       "    .dataframe thead th {\n",
       "        text-align: right;\n",
       "    }\n",
       "</style>\n",
       "<table border=\"1\" class=\"dataframe\">\n",
       "  <thead>\n",
       "    <tr style=\"text-align: right;\">\n",
       "      <th></th>\n",
       "      <th>InvoiceNo</th>\n",
       "      <th>StockCode</th>\n",
       "      <th>Description</th>\n",
       "      <th>Quantity</th>\n",
       "      <th>InvoiceDate</th>\n",
       "      <th>UnitPrice</th>\n",
       "      <th>CustomerID</th>\n",
       "      <th>Country</th>\n",
       "    </tr>\n",
       "  </thead>\n",
       "  <tbody>\n",
       "    <tr>\n",
       "      <th>0</th>\n",
       "      <td>536365</td>\n",
       "      <td>85123A</td>\n",
       "      <td>WHITE HANGING HEART T-LIGHT HOLDER</td>\n",
       "      <td>6</td>\n",
       "      <td>12/1/2010 8:26</td>\n",
       "      <td>2.55</td>\n",
       "      <td>17850</td>\n",
       "      <td>United Kingdom</td>\n",
       "    </tr>\n",
       "    <tr>\n",
       "      <th>1</th>\n",
       "      <td>536365</td>\n",
       "      <td>71053</td>\n",
       "      <td>WHITE METAL LANTERN</td>\n",
       "      <td>6</td>\n",
       "      <td>12/1/2010 8:26</td>\n",
       "      <td>3.39</td>\n",
       "      <td>17850</td>\n",
       "      <td>United Kingdom</td>\n",
       "    </tr>\n",
       "    <tr>\n",
       "      <th>2</th>\n",
       "      <td>536365</td>\n",
       "      <td>84406B</td>\n",
       "      <td>CREAM CUPID HEARTS COAT HANGER</td>\n",
       "      <td>8</td>\n",
       "      <td>12/1/2010 8:26</td>\n",
       "      <td>2.75</td>\n",
       "      <td>17850</td>\n",
       "      <td>United Kingdom</td>\n",
       "    </tr>\n",
       "    <tr>\n",
       "      <th>3</th>\n",
       "      <td>536365</td>\n",
       "      <td>84029G</td>\n",
       "      <td>KNITTED UNION FLAG HOT WATER BOTTLE</td>\n",
       "      <td>6</td>\n",
       "      <td>12/1/2010 8:26</td>\n",
       "      <td>3.39</td>\n",
       "      <td>17850</td>\n",
       "      <td>United Kingdom</td>\n",
       "    </tr>\n",
       "    <tr>\n",
       "      <th>4</th>\n",
       "      <td>536365</td>\n",
       "      <td>84029E</td>\n",
       "      <td>RED WOOLLY HOTTIE WHITE HEART.</td>\n",
       "      <td>6</td>\n",
       "      <td>12/1/2010 8:26</td>\n",
       "      <td>3.39</td>\n",
       "      <td>17850</td>\n",
       "      <td>United Kingdom</td>\n",
       "    </tr>\n",
       "    <tr>\n",
       "      <th>...</th>\n",
       "      <td>...</td>\n",
       "      <td>...</td>\n",
       "      <td>...</td>\n",
       "      <td>...</td>\n",
       "      <td>...</td>\n",
       "      <td>...</td>\n",
       "      <td>...</td>\n",
       "      <td>...</td>\n",
       "    </tr>\n",
       "    <tr>\n",
       "      <th>541904</th>\n",
       "      <td>581587</td>\n",
       "      <td>22613</td>\n",
       "      <td>PACK OF 20 SPACEBOY NAPKINS</td>\n",
       "      <td>12</td>\n",
       "      <td>12/9/2011 12:50</td>\n",
       "      <td>0.85</td>\n",
       "      <td>12680</td>\n",
       "      <td>France</td>\n",
       "    </tr>\n",
       "    <tr>\n",
       "      <th>541905</th>\n",
       "      <td>581587</td>\n",
       "      <td>22899</td>\n",
       "      <td>CHILDREN'S APRON DOLLY GIRL</td>\n",
       "      <td>6</td>\n",
       "      <td>12/9/2011 12:50</td>\n",
       "      <td>2.10</td>\n",
       "      <td>12680</td>\n",
       "      <td>France</td>\n",
       "    </tr>\n",
       "    <tr>\n",
       "      <th>541906</th>\n",
       "      <td>581587</td>\n",
       "      <td>23254</td>\n",
       "      <td>CHILDRENS CUTLERY DOLLY GIRL</td>\n",
       "      <td>4</td>\n",
       "      <td>12/9/2011 12:50</td>\n",
       "      <td>4.15</td>\n",
       "      <td>12680</td>\n",
       "      <td>France</td>\n",
       "    </tr>\n",
       "    <tr>\n",
       "      <th>541907</th>\n",
       "      <td>581587</td>\n",
       "      <td>23255</td>\n",
       "      <td>CHILDRENS CUTLERY CIRCUS PARADE</td>\n",
       "      <td>4</td>\n",
       "      <td>12/9/2011 12:50</td>\n",
       "      <td>4.15</td>\n",
       "      <td>12680</td>\n",
       "      <td>France</td>\n",
       "    </tr>\n",
       "    <tr>\n",
       "      <th>541908</th>\n",
       "      <td>581587</td>\n",
       "      <td>22138</td>\n",
       "      <td>BAKING SET 9 PIECE RETROSPOT</td>\n",
       "      <td>3</td>\n",
       "      <td>12/9/2011 12:50</td>\n",
       "      <td>4.95</td>\n",
       "      <td>12680</td>\n",
       "      <td>France</td>\n",
       "    </tr>\n",
       "  </tbody>\n",
       "</table>\n",
       "<p>541909 rows × 8 columns</p>\n",
       "</div>"
      ],
      "text/plain": [
       "       InvoiceNo StockCode                          Description  Quantity  \\\n",
       "0         536365    85123A   WHITE HANGING HEART T-LIGHT HOLDER         6   \n",
       "1         536365     71053                  WHITE METAL LANTERN         6   \n",
       "2         536365    84406B       CREAM CUPID HEARTS COAT HANGER         8   \n",
       "3         536365    84029G  KNITTED UNION FLAG HOT WATER BOTTLE         6   \n",
       "4         536365    84029E       RED WOOLLY HOTTIE WHITE HEART.         6   \n",
       "...          ...       ...                                  ...       ...   \n",
       "541904    581587     22613          PACK OF 20 SPACEBOY NAPKINS        12   \n",
       "541905    581587     22899         CHILDREN'S APRON DOLLY GIRL          6   \n",
       "541906    581587     23254        CHILDRENS CUTLERY DOLLY GIRL          4   \n",
       "541907    581587     23255      CHILDRENS CUTLERY CIRCUS PARADE         4   \n",
       "541908    581587     22138        BAKING SET 9 PIECE RETROSPOT          3   \n",
       "\n",
       "            InvoiceDate  UnitPrice CustomerID         Country  \n",
       "0        12/1/2010 8:26       2.55      17850  United Kingdom  \n",
       "1        12/1/2010 8:26       3.39      17850  United Kingdom  \n",
       "2        12/1/2010 8:26       2.75      17850  United Kingdom  \n",
       "3        12/1/2010 8:26       3.39      17850  United Kingdom  \n",
       "4        12/1/2010 8:26       3.39      17850  United Kingdom  \n",
       "...                 ...        ...        ...             ...  \n",
       "541904  12/9/2011 12:50       0.85      12680          France  \n",
       "541905  12/9/2011 12:50       2.10      12680          France  \n",
       "541906  12/9/2011 12:50       4.15      12680          France  \n",
       "541907  12/9/2011 12:50       4.15      12680          France  \n",
       "541908  12/9/2011 12:50       4.95      12680          France  \n",
       "\n",
       "[541909 rows x 8 columns]"
      ]
     },
     "execution_count": 102,
     "metadata": {},
     "output_type": "execute_result"
    }
   ],
   "source": [
    "data"
   ]
  },
  {
   "cell_type": "code",
   "execution_count": 103,
   "metadata": {
    "_uuid": "3e9f313ae4854d14ba48713276d62314030ac5da"
   },
   "outputs": [
    {
     "name": "stdout",
     "output_type": "stream",
     "text": [
      "<class 'pandas.core.frame.DataFrame'>\n",
      "RangeIndex: 541909 entries, 0 to 541908\n",
      "Data columns (total 8 columns):\n",
      " #   Column       Non-Null Count   Dtype  \n",
      "---  ------       --------------   -----  \n",
      " 0   InvoiceNo    541909 non-null  object \n",
      " 1   StockCode    541909 non-null  object \n",
      " 2   Description  540455 non-null  object \n",
      " 3   Quantity     541909 non-null  int64  \n",
      " 4   InvoiceDate  541909 non-null  object \n",
      " 5   UnitPrice    541909 non-null  float64\n",
      " 6   CustomerID   406829 non-null  object \n",
      " 7   Country      541909 non-null  object \n",
      "dtypes: float64(1), int64(1), object(6)\n",
      "memory usage: 33.1+ MB\n"
     ]
    }
   ],
   "source": [
    "data.info()"
   ]
  },
  {
   "cell_type": "markdown",
   "metadata": {
    "_uuid": "8a44224a888f9a2fecbe65ad11aac270c7b6ee2c"
   },
   "source": [
    "It appears that we can't replace the missing values and we can't keep data without the value in the customer id columns since we want to classify the customers. So I'll drop the lines with missing values on the customer ID column."
   ]
  },
  {
   "cell_type": "code",
   "execution_count": 104,
   "metadata": {
    "_uuid": "0cb0d8865e7e8b795b057c5b427aac7bf52863f4"
   },
   "outputs": [
    {
     "data": {
      "text/html": [
       "<div>\n",
       "<style scoped>\n",
       "    .dataframe tbody tr th:only-of-type {\n",
       "        vertical-align: middle;\n",
       "    }\n",
       "\n",
       "    .dataframe tbody tr th {\n",
       "        vertical-align: top;\n",
       "    }\n",
       "\n",
       "    .dataframe thead th {\n",
       "        text-align: right;\n",
       "    }\n",
       "</style>\n",
       "<table border=\"1\" class=\"dataframe\">\n",
       "  <thead>\n",
       "    <tr style=\"text-align: right;\">\n",
       "      <th></th>\n",
       "      <th>InvoiceNo</th>\n",
       "      <th>StockCode</th>\n",
       "      <th>Description</th>\n",
       "      <th>Quantity</th>\n",
       "      <th>InvoiceDate</th>\n",
       "      <th>UnitPrice</th>\n",
       "      <th>CustomerID</th>\n",
       "      <th>Country</th>\n",
       "    </tr>\n",
       "  </thead>\n",
       "  <tbody>\n",
       "    <tr>\n",
       "      <th>0</th>\n",
       "      <td>536365</td>\n",
       "      <td>85123A</td>\n",
       "      <td>WHITE HANGING HEART T-LIGHT HOLDER</td>\n",
       "      <td>6</td>\n",
       "      <td>12/1/2010 8:26</td>\n",
       "      <td>2.55</td>\n",
       "      <td>17850</td>\n",
       "      <td>United Kingdom</td>\n",
       "    </tr>\n",
       "    <tr>\n",
       "      <th>1</th>\n",
       "      <td>536365</td>\n",
       "      <td>71053</td>\n",
       "      <td>WHITE METAL LANTERN</td>\n",
       "      <td>6</td>\n",
       "      <td>12/1/2010 8:26</td>\n",
       "      <td>3.39</td>\n",
       "      <td>17850</td>\n",
       "      <td>United Kingdom</td>\n",
       "    </tr>\n",
       "    <tr>\n",
       "      <th>2</th>\n",
       "      <td>536365</td>\n",
       "      <td>84406B</td>\n",
       "      <td>CREAM CUPID HEARTS COAT HANGER</td>\n",
       "      <td>8</td>\n",
       "      <td>12/1/2010 8:26</td>\n",
       "      <td>2.75</td>\n",
       "      <td>17850</td>\n",
       "      <td>United Kingdom</td>\n",
       "    </tr>\n",
       "    <tr>\n",
       "      <th>3</th>\n",
       "      <td>536365</td>\n",
       "      <td>84029G</td>\n",
       "      <td>KNITTED UNION FLAG HOT WATER BOTTLE</td>\n",
       "      <td>6</td>\n",
       "      <td>12/1/2010 8:26</td>\n",
       "      <td>3.39</td>\n",
       "      <td>17850</td>\n",
       "      <td>United Kingdom</td>\n",
       "    </tr>\n",
       "    <tr>\n",
       "      <th>4</th>\n",
       "      <td>536365</td>\n",
       "      <td>84029E</td>\n",
       "      <td>RED WOOLLY HOTTIE WHITE HEART.</td>\n",
       "      <td>6</td>\n",
       "      <td>12/1/2010 8:26</td>\n",
       "      <td>3.39</td>\n",
       "      <td>17850</td>\n",
       "      <td>United Kingdom</td>\n",
       "    </tr>\n",
       "    <tr>\n",
       "      <th>...</th>\n",
       "      <td>...</td>\n",
       "      <td>...</td>\n",
       "      <td>...</td>\n",
       "      <td>...</td>\n",
       "      <td>...</td>\n",
       "      <td>...</td>\n",
       "      <td>...</td>\n",
       "      <td>...</td>\n",
       "    </tr>\n",
       "    <tr>\n",
       "      <th>541904</th>\n",
       "      <td>581587</td>\n",
       "      <td>22613</td>\n",
       "      <td>PACK OF 20 SPACEBOY NAPKINS</td>\n",
       "      <td>12</td>\n",
       "      <td>12/9/2011 12:50</td>\n",
       "      <td>0.85</td>\n",
       "      <td>12680</td>\n",
       "      <td>France</td>\n",
       "    </tr>\n",
       "    <tr>\n",
       "      <th>541905</th>\n",
       "      <td>581587</td>\n",
       "      <td>22899</td>\n",
       "      <td>CHILDREN'S APRON DOLLY GIRL</td>\n",
       "      <td>6</td>\n",
       "      <td>12/9/2011 12:50</td>\n",
       "      <td>2.10</td>\n",
       "      <td>12680</td>\n",
       "      <td>France</td>\n",
       "    </tr>\n",
       "    <tr>\n",
       "      <th>541906</th>\n",
       "      <td>581587</td>\n",
       "      <td>23254</td>\n",
       "      <td>CHILDRENS CUTLERY DOLLY GIRL</td>\n",
       "      <td>4</td>\n",
       "      <td>12/9/2011 12:50</td>\n",
       "      <td>4.15</td>\n",
       "      <td>12680</td>\n",
       "      <td>France</td>\n",
       "    </tr>\n",
       "    <tr>\n",
       "      <th>541907</th>\n",
       "      <td>581587</td>\n",
       "      <td>23255</td>\n",
       "      <td>CHILDRENS CUTLERY CIRCUS PARADE</td>\n",
       "      <td>4</td>\n",
       "      <td>12/9/2011 12:50</td>\n",
       "      <td>4.15</td>\n",
       "      <td>12680</td>\n",
       "      <td>France</td>\n",
       "    </tr>\n",
       "    <tr>\n",
       "      <th>541908</th>\n",
       "      <td>581587</td>\n",
       "      <td>22138</td>\n",
       "      <td>BAKING SET 9 PIECE RETROSPOT</td>\n",
       "      <td>3</td>\n",
       "      <td>12/9/2011 12:50</td>\n",
       "      <td>4.95</td>\n",
       "      <td>12680</td>\n",
       "      <td>France</td>\n",
       "    </tr>\n",
       "  </tbody>\n",
       "</table>\n",
       "<p>406829 rows × 8 columns</p>\n",
       "</div>"
      ],
      "text/plain": [
       "       InvoiceNo StockCode                          Description  Quantity  \\\n",
       "0         536365    85123A   WHITE HANGING HEART T-LIGHT HOLDER         6   \n",
       "1         536365     71053                  WHITE METAL LANTERN         6   \n",
       "2         536365    84406B       CREAM CUPID HEARTS COAT HANGER         8   \n",
       "3         536365    84029G  KNITTED UNION FLAG HOT WATER BOTTLE         6   \n",
       "4         536365    84029E       RED WOOLLY HOTTIE WHITE HEART.         6   \n",
       "...          ...       ...                                  ...       ...   \n",
       "541904    581587     22613          PACK OF 20 SPACEBOY NAPKINS        12   \n",
       "541905    581587     22899         CHILDREN'S APRON DOLLY GIRL          6   \n",
       "541906    581587     23254        CHILDRENS CUTLERY DOLLY GIRL          4   \n",
       "541907    581587     23255      CHILDRENS CUTLERY CIRCUS PARADE         4   \n",
       "541908    581587     22138        BAKING SET 9 PIECE RETROSPOT          3   \n",
       "\n",
       "            InvoiceDate  UnitPrice CustomerID         Country  \n",
       "0        12/1/2010 8:26       2.55      17850  United Kingdom  \n",
       "1        12/1/2010 8:26       3.39      17850  United Kingdom  \n",
       "2        12/1/2010 8:26       2.75      17850  United Kingdom  \n",
       "3        12/1/2010 8:26       3.39      17850  United Kingdom  \n",
       "4        12/1/2010 8:26       3.39      17850  United Kingdom  \n",
       "...                 ...        ...        ...             ...  \n",
       "541904  12/9/2011 12:50       0.85      12680          France  \n",
       "541905  12/9/2011 12:50       2.10      12680          France  \n",
       "541906  12/9/2011 12:50       4.15      12680          France  \n",
       "541907  12/9/2011 12:50       4.15      12680          France  \n",
       "541908  12/9/2011 12:50       4.95      12680          France  \n",
       "\n",
       "[406829 rows x 8 columns]"
      ]
     },
     "execution_count": 104,
     "metadata": {},
     "output_type": "execute_result"
    }
   ],
   "source": [
    "data = data.dropna(subset=[\"CustomerID\"])\n",
    "data"
   ]
  },
  {
   "cell_type": "markdown",
   "metadata": {
    "_uuid": "ac5d2cf53a3bf592b4de40a4603cd2f871011670"
   },
   "source": [
    "There are no more missing values.\n",
    "I'll now check the dupplicate values and drop them if there's any. "
   ]
  },
  {
   "cell_type": "code",
   "execution_count": 105,
   "metadata": {
    "_uuid": "be192fb4614ca9c6e0c56bd5e1400abce96bb916"
   },
   "outputs": [
    {
     "name": "stdout",
     "output_type": "stream",
     "text": [
      "Duplicate entries: 5225\n"
     ]
    }
   ],
   "source": [
    "print('Duplicate entries: {}'.format(data.duplicated().sum()))\n",
    "data.drop_duplicates(inplace = True)"
   ]
  },
  {
   "cell_type": "markdown",
   "metadata": {
    "_uuid": "0869dfd28b3c5a7c0c39c026d73c1828ae7efbeb"
   },
   "source": [
    "**1.2 Exploratory Analysis**"
   ]
  },
  {
   "cell_type": "markdown",
   "metadata": {
    "_uuid": "4852a59dc25ca6618e4d0410ecef262ff0fe1833"
   },
   "source": [
    "This is very interesting since we can see various things here :\n",
    "* The stock code values aren't only numerical, there are speciales values like D which means Discount \n",
    "* The InvoiceNo aren't also only numerical since there is a C before the other numbers for every negative value in the quantity column, this could mean that the order was canceled."
   ]
  },
  {
   "cell_type": "markdown",
   "metadata": {
    "_uuid": "d021518238ef19c798a0bc850d834d6e124729c1"
   },
   "source": [
    "**1.2.3 InvoiceNo - Cancelation Code**"
   ]
  },
  {
   "cell_type": "code",
   "execution_count": 106,
   "metadata": {
    "_uuid": "f03671ac998221104e6b6d85dc7806f1cd5879c4"
   },
   "outputs": [],
   "source": [
    "# Constucting a basket for later use\n",
    "temp = data.groupby(by=['CustomerID', 'InvoiceNo'], as_index=False)['InvoiceDate'].count()\n",
    "nb_products_per_basket = temp.rename(columns = {'InvoiceDate':'Number of products'})"
   ]
  },
  {
   "cell_type": "code",
   "execution_count": 107,
   "metadata": {
    "_uuid": "677c8d2b7a9494b57657505a9cd2e8ba100b2c46"
   },
   "outputs": [
    {
     "data": {
      "text/plain": [
       "16.466876971608833"
      ]
     },
     "execution_count": 107,
     "metadata": {},
     "output_type": "execute_result"
    }
   ],
   "source": [
    "nb_products_per_basket.InvoiceNo = nb_products_per_basket.InvoiceNo.astype(str)\n",
    "nb_products_per_basket['order_canceled'] = nb_products_per_basket['InvoiceNo'].apply(lambda x:int('C' in x))\n",
    "len(nb_products_per_basket[nb_products_per_basket['order_canceled']==1])/len(nb_products_per_basket)*100"
   ]
  },
  {
   "cell_type": "markdown",
   "metadata": {
    "_uuid": "b22483f6779f3240100c3b025aa7174825dc88da"
   },
   "source": [
    "It appears that more than 16% of the transactions were canceled which is significant"
   ]
  },
  {
   "cell_type": "markdown",
   "metadata": {
    "_uuid": "054de5d24c32c9ed9ddecdebd3188eb530b036ea"
   },
   "source": [
    "By looking at these results, it appears that there is a counterpart to the canceled transaction in the database"
   ]
  },
  {
   "cell_type": "code",
   "execution_count": 108,
   "metadata": {
    "_kg_hide-input": true,
    "_uuid": "ae4e4f444a55d4ba950f81a328ee27c6964f923a"
   },
   "outputs": [
    {
     "name": "stdout",
     "output_type": "stream",
     "text": [
      "CustomerID        14527\n",
      "Quantity             -1\n",
      "StockCode             D\n",
      "Description    Discount\n",
      "UnitPrice          27.5\n",
      "Name: 141, dtype: object\n"
     ]
    }
   ],
   "source": [
    "test = data[data['Quantity'] < 0][['CustomerID','Quantity','StockCode','Description','UnitPrice']]\n",
    "for index, col in  test.iterrows():\n",
    "    if data[(data['CustomerID'] == col[0]) & (data['Quantity'] == -col[1]) \n",
    "                & (data['Description'] == col[2])].shape[0] == 0: \n",
    "        print(test.loc[index])\n",
    "        break"
   ]
  },
  {
   "cell_type": "code",
   "execution_count": 109,
   "metadata": {
    "_uuid": "f62e27a4d449c17a30595d1b7f080a5f98afc00e"
   },
   "outputs": [
    {
     "data": {
      "text/html": [
       "<div>\n",
       "<style scoped>\n",
       "    .dataframe tbody tr th:only-of-type {\n",
       "        vertical-align: middle;\n",
       "    }\n",
       "\n",
       "    .dataframe tbody tr th {\n",
       "        vertical-align: top;\n",
       "    }\n",
       "\n",
       "    .dataframe thead th {\n",
       "        text-align: right;\n",
       "    }\n",
       "</style>\n",
       "<table border=\"1\" class=\"dataframe\">\n",
       "  <thead>\n",
       "    <tr style=\"text-align: right;\">\n",
       "      <th></th>\n",
       "      <th>InvoiceNo</th>\n",
       "      <th>StockCode</th>\n",
       "      <th>Description</th>\n",
       "      <th>Quantity</th>\n",
       "      <th>InvoiceDate</th>\n",
       "      <th>UnitPrice</th>\n",
       "      <th>CustomerID</th>\n",
       "      <th>Country</th>\n",
       "    </tr>\n",
       "  </thead>\n",
       "  <tbody>\n",
       "    <tr>\n",
       "      <th>141</th>\n",
       "      <td>C536379</td>\n",
       "      <td>D</td>\n",
       "      <td>Discount</td>\n",
       "      <td>-1</td>\n",
       "      <td>12/1/2010 9:41</td>\n",
       "      <td>27.50</td>\n",
       "      <td>14527</td>\n",
       "      <td>United Kingdom</td>\n",
       "    </tr>\n",
       "    <tr>\n",
       "      <th>8963</th>\n",
       "      <td>537159</td>\n",
       "      <td>22112</td>\n",
       "      <td>CHOCOLATE HOT WATER BOTTLE</td>\n",
       "      <td>6</td>\n",
       "      <td>12/5/2010 13:17</td>\n",
       "      <td>4.95</td>\n",
       "      <td>14527</td>\n",
       "      <td>United Kingdom</td>\n",
       "    </tr>\n",
       "    <tr>\n",
       "      <th>8964</th>\n",
       "      <td>537159</td>\n",
       "      <td>22111</td>\n",
       "      <td>SCOTTIE DOG HOT WATER BOTTLE</td>\n",
       "      <td>1</td>\n",
       "      <td>12/5/2010 13:17</td>\n",
       "      <td>4.95</td>\n",
       "      <td>14527</td>\n",
       "      <td>United Kingdom</td>\n",
       "    </tr>\n",
       "    <tr>\n",
       "      <th>8965</th>\n",
       "      <td>537159</td>\n",
       "      <td>21479</td>\n",
       "      <td>WHITE SKULL HOT WATER BOTTLE</td>\n",
       "      <td>1</td>\n",
       "      <td>12/5/2010 13:17</td>\n",
       "      <td>3.75</td>\n",
       "      <td>14527</td>\n",
       "      <td>United Kingdom</td>\n",
       "    </tr>\n",
       "    <tr>\n",
       "      <th>8966</th>\n",
       "      <td>537159</td>\n",
       "      <td>22114</td>\n",
       "      <td>HOT WATER BOTTLE TEA AND SYMPATHY</td>\n",
       "      <td>6</td>\n",
       "      <td>12/5/2010 13:17</td>\n",
       "      <td>3.95</td>\n",
       "      <td>14527</td>\n",
       "      <td>United Kingdom</td>\n",
       "    </tr>\n",
       "  </tbody>\n",
       "</table>\n",
       "</div>"
      ],
      "text/plain": [
       "     InvoiceNo StockCode                        Description  Quantity  \\\n",
       "141    C536379         D                           Discount        -1   \n",
       "8963    537159     22112         CHOCOLATE HOT WATER BOTTLE         6   \n",
       "8964    537159     22111       SCOTTIE DOG HOT WATER BOTTLE         1   \n",
       "8965    537159     21479      WHITE SKULL HOT WATER BOTTLE          1   \n",
       "8966    537159     22114  HOT WATER BOTTLE TEA AND SYMPATHY         6   \n",
       "\n",
       "          InvoiceDate  UnitPrice CustomerID         Country  \n",
       "141    12/1/2010 9:41      27.50      14527  United Kingdom  \n",
       "8963  12/5/2010 13:17       4.95      14527  United Kingdom  \n",
       "8964  12/5/2010 13:17       4.95      14527  United Kingdom  \n",
       "8965  12/5/2010 13:17       3.75      14527  United Kingdom  \n",
       "8966  12/5/2010 13:17       3.95      14527  United Kingdom  "
      ]
     },
     "execution_count": 109,
     "metadata": {},
     "output_type": "execute_result"
    }
   ],
   "source": [
    "data[data['CustomerID'] == '14527'].head(5)"
   ]
  },
  {
   "cell_type": "markdown",
   "metadata": {
    "_uuid": "370b2be736055192da8752c6b1d36716a557bbcc"
   },
   "source": [
    "It appears that when there is a discount there are no counterparts.\n",
    "Let's try again but without the discount values"
   ]
  },
  {
   "cell_type": "code",
   "execution_count": 110,
   "metadata": {
    "_kg_hide-input": true,
    "_uuid": "5aece39e63c5a4ea0d7ac14cab2386e38a7175b9"
   },
   "outputs": [
    {
     "name": "stdout",
     "output_type": "stream",
     "text": [
      "154 CustomerID                               15311\n",
      "Quantity                                    -1\n",
      "StockCode                               35004C\n",
      "Description    SET OF 3 COLOURED  FLYING DUCKS\n",
      "UnitPrice                                 4.65\n",
      "Name: 154, dtype: object\n"
     ]
    }
   ],
   "source": [
    "data_check = data[(data['Quantity'] < 0) & (data['Description'] != 'Discount')][\n",
    "                                 ['CustomerID','Quantity','StockCode',\n",
    "                                  'Description','UnitPrice']]\n",
    "\n",
    "for index, col in  data_check.iterrows():\n",
    "    if data[(data['CustomerID'] == col[0]) & (data['Quantity'] == -col[1]) \n",
    "                & (data['Description'] == col[2])].shape[0] == 0: \n",
    "        print(index, data_check.loc[index])\n",
    "        break"
   ]
  },
  {
   "cell_type": "code",
   "execution_count": 111,
   "metadata": {
    "_uuid": "9ea6fc0efe7a82a39fa7a3f4c6022e8462b7d733"
   },
   "outputs": [
    {
     "data": {
      "text/html": [
       "<div>\n",
       "<style scoped>\n",
       "    .dataframe tbody tr th:only-of-type {\n",
       "        vertical-align: middle;\n",
       "    }\n",
       "\n",
       "    .dataframe tbody tr th {\n",
       "        vertical-align: top;\n",
       "    }\n",
       "\n",
       "    .dataframe thead th {\n",
       "        text-align: right;\n",
       "    }\n",
       "</style>\n",
       "<table border=\"1\" class=\"dataframe\">\n",
       "  <thead>\n",
       "    <tr style=\"text-align: right;\">\n",
       "      <th></th>\n",
       "      <th>InvoiceNo</th>\n",
       "      <th>StockCode</th>\n",
       "      <th>Description</th>\n",
       "      <th>Quantity</th>\n",
       "      <th>InvoiceDate</th>\n",
       "      <th>UnitPrice</th>\n",
       "      <th>CustomerID</th>\n",
       "      <th>Country</th>\n",
       "    </tr>\n",
       "  </thead>\n",
       "  <tbody>\n",
       "    <tr>\n",
       "      <th>154</th>\n",
       "      <td>C536383</td>\n",
       "      <td>35004C</td>\n",
       "      <td>SET OF 3 COLOURED  FLYING DUCKS</td>\n",
       "      <td>-1</td>\n",
       "      <td>12/1/2010 9:49</td>\n",
       "      <td>4.65</td>\n",
       "      <td>15311</td>\n",
       "      <td>United Kingdom</td>\n",
       "    </tr>\n",
       "    <tr>\n",
       "      <th>9200</th>\n",
       "      <td>537195</td>\n",
       "      <td>35004C</td>\n",
       "      <td>SET OF 3 COLOURED  FLYING DUCKS</td>\n",
       "      <td>12</td>\n",
       "      <td>12/5/2010 13:55</td>\n",
       "      <td>4.65</td>\n",
       "      <td>15311</td>\n",
       "      <td>United Kingdom</td>\n",
       "    </tr>\n",
       "    <tr>\n",
       "      <th>18196</th>\n",
       "      <td>C537805</td>\n",
       "      <td>35004C</td>\n",
       "      <td>SET OF 3 COLOURED  FLYING DUCKS</td>\n",
       "      <td>-1</td>\n",
       "      <td>12/8/2010 13:18</td>\n",
       "      <td>4.65</td>\n",
       "      <td>15311</td>\n",
       "      <td>United Kingdom</td>\n",
       "    </tr>\n",
       "    <tr>\n",
       "      <th>28630</th>\n",
       "      <td>538651</td>\n",
       "      <td>35004C</td>\n",
       "      <td>SET OF 3 COLOURED  FLYING DUCKS</td>\n",
       "      <td>12</td>\n",
       "      <td>12/13/2010 15:07</td>\n",
       "      <td>4.65</td>\n",
       "      <td>15311</td>\n",
       "      <td>United Kingdom</td>\n",
       "    </tr>\n",
       "    <tr>\n",
       "      <th>39381</th>\n",
       "      <td>C539640</td>\n",
       "      <td>35004C</td>\n",
       "      <td>SET OF 3 COLOURED  FLYING DUCKS</td>\n",
       "      <td>-3</td>\n",
       "      <td>12/20/2010 15:27</td>\n",
       "      <td>4.65</td>\n",
       "      <td>15311</td>\n",
       "      <td>United Kingdom</td>\n",
       "    </tr>\n",
       "    <tr>\n",
       "      <th>44157</th>\n",
       "      <td>540157</td>\n",
       "      <td>35004C</td>\n",
       "      <td>SET OF 3 COLOURED  FLYING DUCKS</td>\n",
       "      <td>12</td>\n",
       "      <td>1/5/2011 11:41</td>\n",
       "      <td>4.65</td>\n",
       "      <td>15311</td>\n",
       "      <td>United Kingdom</td>\n",
       "    </tr>\n",
       "    <tr>\n",
       "      <th>59542</th>\n",
       "      <td>541293</td>\n",
       "      <td>35004C</td>\n",
       "      <td>SET OF 3 COLOURED  FLYING DUCKS</td>\n",
       "      <td>12</td>\n",
       "      <td>1/17/2011 13:39</td>\n",
       "      <td>4.65</td>\n",
       "      <td>15311</td>\n",
       "      <td>United Kingdom</td>\n",
       "    </tr>\n",
       "    <tr>\n",
       "      <th>78333</th>\n",
       "      <td>C542866</td>\n",
       "      <td>35004C</td>\n",
       "      <td>SET OF 3 COLOURED  FLYING DUCKS</td>\n",
       "      <td>-2</td>\n",
       "      <td>2/1/2011 12:14</td>\n",
       "      <td>4.65</td>\n",
       "      <td>15311</td>\n",
       "      <td>United Kingdom</td>\n",
       "    </tr>\n",
       "  </tbody>\n",
       "</table>\n",
       "</div>"
      ],
      "text/plain": [
       "      InvoiceNo StockCode                      Description  Quantity  \\\n",
       "154     C536383    35004C  SET OF 3 COLOURED  FLYING DUCKS        -1   \n",
       "9200     537195    35004C  SET OF 3 COLOURED  FLYING DUCKS        12   \n",
       "18196   C537805    35004C  SET OF 3 COLOURED  FLYING DUCKS        -1   \n",
       "28630    538651    35004C  SET OF 3 COLOURED  FLYING DUCKS        12   \n",
       "39381   C539640    35004C  SET OF 3 COLOURED  FLYING DUCKS        -3   \n",
       "44157    540157    35004C  SET OF 3 COLOURED  FLYING DUCKS        12   \n",
       "59542    541293    35004C  SET OF 3 COLOURED  FLYING DUCKS        12   \n",
       "78333   C542866    35004C  SET OF 3 COLOURED  FLYING DUCKS        -2   \n",
       "\n",
       "            InvoiceDate  UnitPrice CustomerID         Country  \n",
       "154      12/1/2010 9:49       4.65      15311  United Kingdom  \n",
       "9200    12/5/2010 13:55       4.65      15311  United Kingdom  \n",
       "18196   12/8/2010 13:18       4.65      15311  United Kingdom  \n",
       "28630  12/13/2010 15:07       4.65      15311  United Kingdom  \n",
       "39381  12/20/2010 15:27       4.65      15311  United Kingdom  \n",
       "44157    1/5/2011 11:41       4.65      15311  United Kingdom  \n",
       "59542   1/17/2011 13:39       4.65      15311  United Kingdom  \n",
       "78333    2/1/2011 12:14       4.65      15311  United Kingdom  "
      ]
     },
     "execution_count": 111,
     "metadata": {},
     "output_type": "execute_result"
    }
   ],
   "source": [
    "data[(data['CustomerID'] == '15311') & (data['Description'] == 'SET OF 3 COLOURED  FLYING DUCKS')]"
   ]
  },
  {
   "cell_type": "code",
   "execution_count": 113,
   "metadata": {},
   "outputs": [],
   "source": [
    "df_cleaned = data.copy(deep = True)\n",
    "df_cleaned['QuantityCanceled'] = 0\n",
    "\n",
    "entry_to_remove = [] ; doubtful_entry = []\n",
    "\n",
    "for index, col in  data.iterrows():\n",
    "    if (col['Quantity'] > 0) or col['Description'] == 'Discount': continue        \n",
    "    df_test = data[(data['CustomerID'] == col['CustomerID']) &\n",
    "                         (data['StockCode']  == col['StockCode']) & \n",
    "                         (data['InvoiceDate'] < col['InvoiceDate']) & \n",
    "                         (data['Quantity']   > 0)].copy()\n",
    "    #_________________________________\n",
    "    # Cancelation WITHOUT counterpart\n",
    "    if (df_test.shape[0] == 0): \n",
    "        doubtful_entry.append(index)\n",
    "    #________________________________\n",
    "    # Cancelation WITH a counterpart\n",
    "    elif (df_test.shape[0] == 1): \n",
    "        index_order = df_test.index[0]\n",
    "        df_cleaned.loc[index_order, 'QuantityCanceled'] = -col['Quantity']\n",
    "        entry_to_remove.append(index)        \n",
    "    #______________________________________________________________\n",
    "    # Various counterparts exist in orders: we delete the last one\n",
    "    elif (df_test.shape[0] > 1): \n",
    "        df_test.sort_index(axis=0 ,ascending=False, inplace = True)        \n",
    "        for ind, val in df_test.iterrows():\n",
    "            if val['Quantity'] < -col['Quantity']: continue\n",
    "            df_cleaned.loc[ind, 'QuantityCanceled'] = -col['Quantity']\n",
    "            entry_to_remove.append(index) \n",
    "            break    "
   ]
  },
  {
   "cell_type": "code",
   "execution_count": 114,
   "metadata": {},
   "outputs": [
    {
     "name": "stdout",
     "output_type": "stream",
     "text": [
      "entry_to_remove: 6151\n",
      "doubtful_entry: 2607\n"
     ]
    }
   ],
   "source": [
    "print(\"entry_to_remove: {}\".format(len(entry_to_remove)))\n",
    "print(\"doubtful_entry: {}\".format(len(doubtful_entry)))"
   ]
  },
  {
   "cell_type": "code",
   "execution_count": 115,
   "metadata": {},
   "outputs": [
    {
     "name": "stdout",
     "output_type": "stream",
     "text": [
      "number of entries to delete: 37\n"
     ]
    },
    {
     "data": {
      "text/html": [
       "<div>\n",
       "<style scoped>\n",
       "    .dataframe tbody tr th:only-of-type {\n",
       "        vertical-align: middle;\n",
       "    }\n",
       "\n",
       "    .dataframe tbody tr th {\n",
       "        vertical-align: top;\n",
       "    }\n",
       "\n",
       "    .dataframe thead th {\n",
       "        text-align: right;\n",
       "    }\n",
       "</style>\n",
       "<table border=\"1\" class=\"dataframe\">\n",
       "  <thead>\n",
       "    <tr style=\"text-align: right;\">\n",
       "      <th></th>\n",
       "      <th>InvoiceNo</th>\n",
       "      <th>StockCode</th>\n",
       "      <th>Description</th>\n",
       "      <th>Quantity</th>\n",
       "      <th>InvoiceDate</th>\n",
       "      <th>UnitPrice</th>\n",
       "      <th>CustomerID</th>\n",
       "      <th>Country</th>\n",
       "      <th>QuantityCanceled</th>\n",
       "    </tr>\n",
       "  </thead>\n",
       "  <tbody>\n",
       "    <tr>\n",
       "      <th>27329</th>\n",
       "      <td>C538530</td>\n",
       "      <td>22630</td>\n",
       "      <td>DOLLY GIRL LUNCH BOX</td>\n",
       "      <td>-33</td>\n",
       "      <td>12/13/2010 10:26</td>\n",
       "      <td>1.95</td>\n",
       "      <td>14796</td>\n",
       "      <td>United Kingdom</td>\n",
       "      <td>0</td>\n",
       "    </tr>\n",
       "    <tr>\n",
       "      <th>32870</th>\n",
       "      <td>C539195</td>\n",
       "      <td>22942</td>\n",
       "      <td>CHRISTMAS LIGHTS 10 SANTAS</td>\n",
       "      <td>-5</td>\n",
       "      <td>12/16/2010 12:05</td>\n",
       "      <td>8.50</td>\n",
       "      <td>12748</td>\n",
       "      <td>United Kingdom</td>\n",
       "      <td>0</td>\n",
       "    </tr>\n",
       "    <tr>\n",
       "      <th>33085</th>\n",
       "      <td>C539221</td>\n",
       "      <td>22941</td>\n",
       "      <td>CHRISTMAS LIGHTS 10 REINDEER</td>\n",
       "      <td>-12</td>\n",
       "      <td>12/16/2010 12:56</td>\n",
       "      <td>8.50</td>\n",
       "      <td>14911</td>\n",
       "      <td>EIRE</td>\n",
       "      <td>0</td>\n",
       "    </tr>\n",
       "    <tr>\n",
       "      <th>33086</th>\n",
       "      <td>C539221</td>\n",
       "      <td>22942</td>\n",
       "      <td>CHRISTMAS LIGHTS 10 SANTAS</td>\n",
       "      <td>-10</td>\n",
       "      <td>12/16/2010 12:56</td>\n",
       "      <td>8.50</td>\n",
       "      <td>14911</td>\n",
       "      <td>EIRE</td>\n",
       "      <td>0</td>\n",
       "    </tr>\n",
       "    <tr>\n",
       "      <th>77599</th>\n",
       "      <td>C542744</td>\n",
       "      <td>22700</td>\n",
       "      <td>BLACK AND WHITE DOG BOWL</td>\n",
       "      <td>-10</td>\n",
       "      <td>1/31/2011 16:32</td>\n",
       "      <td>0.85</td>\n",
       "      <td>16191</td>\n",
       "      <td>United Kingdom</td>\n",
       "      <td>0</td>\n",
       "    </tr>\n",
       "  </tbody>\n",
       "</table>\n",
       "</div>"
      ],
      "text/plain": [
       "      InvoiceNo StockCode                   Description  Quantity  \\\n",
       "27329   C538530     22630          DOLLY GIRL LUNCH BOX       -33   \n",
       "32870   C539195     22942   CHRISTMAS LIGHTS 10 SANTAS         -5   \n",
       "33085   C539221     22941  CHRISTMAS LIGHTS 10 REINDEER       -12   \n",
       "33086   C539221     22942   CHRISTMAS LIGHTS 10 SANTAS        -10   \n",
       "77599   C542744     22700      BLACK AND WHITE DOG BOWL       -10   \n",
       "\n",
       "            InvoiceDate  UnitPrice CustomerID         Country  \\\n",
       "27329  12/13/2010 10:26       1.95      14796  United Kingdom   \n",
       "32870  12/16/2010 12:05       8.50      12748  United Kingdom   \n",
       "33085  12/16/2010 12:56       8.50      14911            EIRE   \n",
       "33086  12/16/2010 12:56       8.50      14911            EIRE   \n",
       "77599   1/31/2011 16:32       0.85      16191  United Kingdom   \n",
       "\n",
       "       QuantityCanceled  \n",
       "27329                 0  \n",
       "32870                 0  \n",
       "33085                 0  \n",
       "33086                 0  \n",
       "77599                 0  "
      ]
     },
     "execution_count": 115,
     "metadata": {},
     "output_type": "execute_result"
    }
   ],
   "source": [
    "df_cleaned.drop(entry_to_remove, axis = 0, inplace = True)\n",
    "df_cleaned.drop(doubtful_entry, axis = 0, inplace = True)\n",
    "remaining_entries = df_cleaned[(df_cleaned['Quantity'] < 0) & (df_cleaned['StockCode'] != 'D')]\n",
    "print(\"number of entries to delete: {}\".format(remaining_entries.shape[0]))\n",
    "remaining_entries[:5]"
   ]
  },
  {
   "cell_type": "code",
   "execution_count": 116,
   "metadata": {},
   "outputs": [],
   "source": [
    "df_cleaned.drop(remaining_entries.index, axis = 0, inplace = True)"
   ]
  },
  {
   "cell_type": "markdown",
   "metadata": {
    "_uuid": "8c8c828dd166e5be65db8dabb71f478715047b14"
   },
   "source": [
    "It seels that the customer can also cancel just a part of the transaction which is logical so we need to take this into account for later."
   ]
  },
  {
   "cell_type": "markdown",
   "metadata": {
    "_uuid": "3cc55e1107ce6a468077a2d2de172f3a5de1c1a7"
   },
   "source": [
    "**1.2.4 Stockcode**"
   ]
  },
  {
   "cell_type": "markdown",
   "metadata": {
    "_uuid": "f10ffc18e8be42f549f51066342fc7b9f8c855e5"
   },
   "source": [
    "These are specific operations which doesn't characterize our customers so I'll just drop these transactions from our database"
   ]
  },
  {
   "cell_type": "code",
   "execution_count": 117,
   "metadata": {
    "_uuid": "70a2da7f1a6a0f8cd7f674658343089348e22897"
   },
   "outputs": [
    {
     "data": {
      "text/plain": [
       "array(['POST', 'D', 'C2', 'M', 'BANK CHARGES', 'PADS', 'DOT'],\n",
       "      dtype=object)"
      ]
     },
     "execution_count": 117,
     "metadata": {},
     "output_type": "execute_result"
    }
   ],
   "source": [
    "list_special_codes = df_cleaned[df_cleaned['StockCode'].str.contains('^[a-zA-Z]+', regex=True)]['StockCode'].unique()\n",
    "list_special_codes"
   ]
  },
  {
   "cell_type": "code",
   "execution_count": 118,
   "metadata": {},
   "outputs": [],
   "source": [
    "df_cleaned = df_cleaned[df_cleaned['StockCode']!= 'POST']\n",
    "df_cleaned = df_cleaned[df_cleaned['StockCode']!= 'D']\n",
    "df_cleaned = df_cleaned[df_cleaned['StockCode']!= 'C2']\n",
    "df_cleaned = df_cleaned[df_cleaned['StockCode']!= 'M']\n",
    "df_cleaned = df_cleaned[df_cleaned['StockCode']!= 'BANK CHARGES']\n",
    "df_cleaned = df_cleaned[df_cleaned['StockCode']!= 'PADS']\n",
    "df_cleaned = df_cleaned[df_cleaned['StockCode']!= 'DOT']"
   ]
  },
  {
   "cell_type": "code",
   "execution_count": 119,
   "metadata": {
    "_uuid": "85f20c60abf7995f2c020833558604abb2d2f940"
   },
   "outputs": [
    {
     "data": {
      "text/html": [
       "<div>\n",
       "<style scoped>\n",
       "    .dataframe tbody tr th:only-of-type {\n",
       "        vertical-align: middle;\n",
       "    }\n",
       "\n",
       "    .dataframe tbody tr th {\n",
       "        vertical-align: top;\n",
       "    }\n",
       "\n",
       "    .dataframe thead th {\n",
       "        text-align: right;\n",
       "    }\n",
       "</style>\n",
       "<table border=\"1\" class=\"dataframe\">\n",
       "  <thead>\n",
       "    <tr style=\"text-align: right;\">\n",
       "      <th></th>\n",
       "      <th>Quantity</th>\n",
       "      <th>UnitPrice</th>\n",
       "      <th>QuantityCanceled</th>\n",
       "    </tr>\n",
       "  </thead>\n",
       "  <tbody>\n",
       "    <tr>\n",
       "      <th>count</th>\n",
       "      <td>391183.000000</td>\n",
       "      <td>391183.000000</td>\n",
       "      <td>391183.000000</td>\n",
       "    </tr>\n",
       "    <tr>\n",
       "      <th>mean</th>\n",
       "      <td>13.179665</td>\n",
       "      <td>2.874130</td>\n",
       "      <td>0.583911</td>\n",
       "    </tr>\n",
       "    <tr>\n",
       "      <th>std</th>\n",
       "      <td>181.907403</td>\n",
       "      <td>4.284639</td>\n",
       "      <td>175.868790</td>\n",
       "    </tr>\n",
       "    <tr>\n",
       "      <th>min</th>\n",
       "      <td>1.000000</td>\n",
       "      <td>0.000000</td>\n",
       "      <td>0.000000</td>\n",
       "    </tr>\n",
       "    <tr>\n",
       "      <th>25%</th>\n",
       "      <td>2.000000</td>\n",
       "      <td>1.250000</td>\n",
       "      <td>0.000000</td>\n",
       "    </tr>\n",
       "    <tr>\n",
       "      <th>50%</th>\n",
       "      <td>6.000000</td>\n",
       "      <td>1.950000</td>\n",
       "      <td>0.000000</td>\n",
       "    </tr>\n",
       "    <tr>\n",
       "      <th>75%</th>\n",
       "      <td>12.000000</td>\n",
       "      <td>3.750000</td>\n",
       "      <td>0.000000</td>\n",
       "    </tr>\n",
       "    <tr>\n",
       "      <th>max</th>\n",
       "      <td>80995.000000</td>\n",
       "      <td>649.500000</td>\n",
       "      <td>80995.000000</td>\n",
       "    </tr>\n",
       "  </tbody>\n",
       "</table>\n",
       "</div>"
      ],
      "text/plain": [
       "            Quantity      UnitPrice  QuantityCanceled\n",
       "count  391183.000000  391183.000000     391183.000000\n",
       "mean       13.179665       2.874130          0.583911\n",
       "std       181.907403       4.284639        175.868790\n",
       "min         1.000000       0.000000          0.000000\n",
       "25%         2.000000       1.250000          0.000000\n",
       "50%         6.000000       1.950000          0.000000\n",
       "75%        12.000000       3.750000          0.000000\n",
       "max     80995.000000     649.500000      80995.000000"
      ]
     },
     "execution_count": 119,
     "metadata": {},
     "output_type": "execute_result"
    }
   ],
   "source": [
    "df_cleaned.describe()"
   ]
  },
  {
   "cell_type": "code",
   "execution_count": 121,
   "metadata": {},
   "outputs": [
    {
     "data": {
      "text/html": [
       "<div>\n",
       "<style scoped>\n",
       "    .dataframe tbody tr th:only-of-type {\n",
       "        vertical-align: middle;\n",
       "    }\n",
       "\n",
       "    .dataframe tbody tr th {\n",
       "        vertical-align: top;\n",
       "    }\n",
       "\n",
       "    .dataframe thead th {\n",
       "        text-align: right;\n",
       "    }\n",
       "</style>\n",
       "<table border=\"1\" class=\"dataframe\">\n",
       "  <thead>\n",
       "    <tr style=\"text-align: right;\">\n",
       "      <th></th>\n",
       "      <th>InvoiceNo</th>\n",
       "      <th>StockCode</th>\n",
       "      <th>Description</th>\n",
       "      <th>Quantity</th>\n",
       "      <th>InvoiceDate</th>\n",
       "      <th>UnitPrice</th>\n",
       "      <th>CustomerID</th>\n",
       "      <th>Country</th>\n",
       "      <th>QuantityCanceled</th>\n",
       "    </tr>\n",
       "  </thead>\n",
       "  <tbody>\n",
       "    <tr>\n",
       "      <th>9302</th>\n",
       "      <td>537197</td>\n",
       "      <td>22841</td>\n",
       "      <td>ROUND CAKE TIN VINTAGE GREEN</td>\n",
       "      <td>1</td>\n",
       "      <td>12/5/2010 14:02</td>\n",
       "      <td>0.0</td>\n",
       "      <td>12647</td>\n",
       "      <td>Germany</td>\n",
       "      <td>0</td>\n",
       "    </tr>\n",
       "    <tr>\n",
       "      <th>33576</th>\n",
       "      <td>539263</td>\n",
       "      <td>22580</td>\n",
       "      <td>ADVENT CALENDAR GINGHAM SACK</td>\n",
       "      <td>4</td>\n",
       "      <td>12/16/2010 14:36</td>\n",
       "      <td>0.0</td>\n",
       "      <td>16560</td>\n",
       "      <td>United Kingdom</td>\n",
       "      <td>0</td>\n",
       "    </tr>\n",
       "    <tr>\n",
       "      <th>40089</th>\n",
       "      <td>539722</td>\n",
       "      <td>22423</td>\n",
       "      <td>REGENCY CAKESTAND 3 TIER</td>\n",
       "      <td>10</td>\n",
       "      <td>12/21/2010 13:45</td>\n",
       "      <td>0.0</td>\n",
       "      <td>14911</td>\n",
       "      <td>EIRE</td>\n",
       "      <td>0</td>\n",
       "    </tr>\n",
       "    <tr>\n",
       "      <th>47068</th>\n",
       "      <td>540372</td>\n",
       "      <td>22090</td>\n",
       "      <td>PAPER BUNTING RETROSPOT</td>\n",
       "      <td>24</td>\n",
       "      <td>1/6/2011 16:41</td>\n",
       "      <td>0.0</td>\n",
       "      <td>13081</td>\n",
       "      <td>United Kingdom</td>\n",
       "      <td>0</td>\n",
       "    </tr>\n",
       "    <tr>\n",
       "      <th>47070</th>\n",
       "      <td>540372</td>\n",
       "      <td>22553</td>\n",
       "      <td>PLASTERS IN TIN SKULLS</td>\n",
       "      <td>24</td>\n",
       "      <td>1/6/2011 16:41</td>\n",
       "      <td>0.0</td>\n",
       "      <td>13081</td>\n",
       "      <td>United Kingdom</td>\n",
       "      <td>0</td>\n",
       "    </tr>\n",
       "  </tbody>\n",
       "</table>\n",
       "</div>"
      ],
      "text/plain": [
       "      InvoiceNo StockCode                   Description  Quantity  \\\n",
       "9302     537197     22841  ROUND CAKE TIN VINTAGE GREEN         1   \n",
       "33576    539263     22580  ADVENT CALENDAR GINGHAM SACK         4   \n",
       "40089    539722     22423      REGENCY CAKESTAND 3 TIER        10   \n",
       "47068    540372     22090       PAPER BUNTING RETROSPOT        24   \n",
       "47070    540372     22553        PLASTERS IN TIN SKULLS        24   \n",
       "\n",
       "            InvoiceDate  UnitPrice CustomerID         Country  \\\n",
       "9302    12/5/2010 14:02        0.0      12647         Germany   \n",
       "33576  12/16/2010 14:36        0.0      16560  United Kingdom   \n",
       "40089  12/21/2010 13:45        0.0      14911            EIRE   \n",
       "47068    1/6/2011 16:41        0.0      13081  United Kingdom   \n",
       "47070    1/6/2011 16:41        0.0      13081  United Kingdom   \n",
       "\n",
       "       QuantityCanceled  \n",
       "9302                  0  \n",
       "33576                 0  \n",
       "40089                 0  \n",
       "47068                 0  \n",
       "47070                 0  "
      ]
     },
     "execution_count": 121,
     "metadata": {},
     "output_type": "execute_result"
    }
   ],
   "source": [
    "df_cleaned[(df_cleaned['UnitPrice'] == 0)].head(5)"
   ]
  },
  {
   "cell_type": "code",
   "execution_count": null,
   "metadata": {
    "_uuid": "b674513b29da5146825e0c2a7258cd53d4c289ea"
   },
   "outputs": [],
   "source": [
    "df_cleaned = df_cleaned[(df_cleaned['UnitPrice'] != 0)]"
   ]
  },
  {
   "cell_type": "code",
   "execution_count": null,
   "metadata": {
    "_uuid": "bd30a08d44a7cfe002ba5d4969c5e981cdc8346e"
   },
   "outputs": [],
   "source": [
    "# Total price feature\n",
    "\n",
    "df_cleaned['TotalPrice'] = df_cleaned['UnitPrice'] * (df_cleaned['Quantity'] - df_cleaned['QuantityCanceled'])"
   ]
  },
  {
   "cell_type": "code",
   "execution_count": null,
   "metadata": {},
   "outputs": [
    {
     "data": {
      "text/html": [
       "<div>\n",
       "<style scoped>\n",
       "    .dataframe tbody tr th:only-of-type {\n",
       "        vertical-align: middle;\n",
       "    }\n",
       "\n",
       "    .dataframe tbody tr th {\n",
       "        vertical-align: top;\n",
       "    }\n",
       "\n",
       "    .dataframe thead th {\n",
       "        text-align: right;\n",
       "    }\n",
       "</style>\n",
       "<table border=\"1\" class=\"dataframe\">\n",
       "  <thead>\n",
       "    <tr style=\"text-align: right;\">\n",
       "      <th></th>\n",
       "      <th>StockCode</th>\n",
       "    </tr>\n",
       "    <tr>\n",
       "      <th>CustomerID</th>\n",
       "      <th></th>\n",
       "    </tr>\n",
       "  </thead>\n",
       "  <tbody>\n",
       "    <tr>\n",
       "      <th>12346</th>\n",
       "      <td>[23166]</td>\n",
       "    </tr>\n",
       "    <tr>\n",
       "      <th>12347</th>\n",
       "      <td>[22196, 23170, 22131, 21041, 84969, 47559B, 47...</td>\n",
       "    </tr>\n",
       "    <tr>\n",
       "      <th>12348</th>\n",
       "      <td>[21977, 23076, 21967, 21213, 22616, 22951, 219...</td>\n",
       "    </tr>\n",
       "    <tr>\n",
       "      <th>12349</th>\n",
       "      <td>[22567, 22195, 37500, 23497, 23283, 22554, 224...</td>\n",
       "    </tr>\n",
       "    <tr>\n",
       "      <th>12350</th>\n",
       "      <td>[21832, 79066K, 79191C, 21915, 84086C, 22412, ...</td>\n",
       "    </tr>\n",
       "    <tr>\n",
       "      <th>...</th>\n",
       "      <td>...</td>\n",
       "    </tr>\n",
       "    <tr>\n",
       "      <th>18280</th>\n",
       "      <td>[22180, 22499, 82484, 22727, 22725, 22467, 220...</td>\n",
       "    </tr>\n",
       "    <tr>\n",
       "      <th>18281</th>\n",
       "      <td>[23008, 23007, 22467, 22028, 22716, 23209, 22037]</td>\n",
       "    </tr>\n",
       "    <tr>\n",
       "      <th>18282</th>\n",
       "      <td>[22818, 22423, 21270, 21109, 23175, 23174, 220...</td>\n",
       "    </tr>\n",
       "    <tr>\n",
       "      <th>18283</th>\n",
       "      <td>[21977, 22738, 22755, 21213, 20969, 23374, 229...</td>\n",
       "    </tr>\n",
       "    <tr>\n",
       "      <th>18287</th>\n",
       "      <td>[22582, 23076, 22114, 22755, 72351A, 22756, 22...</td>\n",
       "    </tr>\n",
       "  </tbody>\n",
       "</table>\n",
       "<p>4334 rows × 1 columns</p>\n",
       "</div>"
      ],
      "text/plain": [
       "                                                    StockCode\n",
       "CustomerID                                                   \n",
       "12346                                                 [23166]\n",
       "12347       [22196, 23170, 22131, 21041, 84969, 47559B, 47...\n",
       "12348       [21977, 23076, 21967, 21213, 22616, 22951, 219...\n",
       "12349       [22567, 22195, 37500, 23497, 23283, 22554, 224...\n",
       "12350       [21832, 79066K, 79191C, 21915, 84086C, 22412, ...\n",
       "...                                                       ...\n",
       "18280       [22180, 22499, 82484, 22727, 22725, 22467, 220...\n",
       "18281       [23008, 23007, 22467, 22028, 22716, 23209, 22037]\n",
       "18282       [22818, 22423, 21270, 21109, 23175, 23174, 220...\n",
       "18283       [21977, 22738, 22755, 21213, 20969, 23374, 229...\n",
       "18287       [22582, 23076, 22114, 22755, 72351A, 22756, 22...\n",
       "\n",
       "[4334 rows x 1 columns]"
      ]
     },
     "execution_count": 52,
     "metadata": {},
     "output_type": "execute_result"
    }
   ],
   "source": [
    "basket = df_cleaned.groupby(['CustomerID']).agg({'StockCode': lambda s: list(set(s))}) # grouping product from the same invoice. \n",
    "basket"
   ]
  },
  {
   "cell_type": "code",
   "execution_count": null,
   "metadata": {},
   "outputs": [],
   "source": [
    "basket.to_csv('basket.csv')"
   ]
  },
  {
   "cell_type": "code",
   "execution_count": null,
   "metadata": {},
   "outputs": [
    {
     "data": {
      "text/html": [
       "<div>\n",
       "<style scoped>\n",
       "    .dataframe tbody tr th:only-of-type {\n",
       "        vertical-align: middle;\n",
       "    }\n",
       "\n",
       "    .dataframe tbody tr th {\n",
       "        vertical-align: top;\n",
       "    }\n",
       "\n",
       "    .dataframe thead th {\n",
       "        text-align: right;\n",
       "    }\n",
       "</style>\n",
       "<table border=\"1\" class=\"dataframe\">\n",
       "  <thead>\n",
       "    <tr style=\"text-align: right;\">\n",
       "      <th></th>\n",
       "      <th>InvoiceNo</th>\n",
       "      <th>StockCode</th>\n",
       "      <th>Description</th>\n",
       "      <th>Quantity</th>\n",
       "      <th>InvoiceDate</th>\n",
       "      <th>UnitPrice</th>\n",
       "      <th>CustomerID</th>\n",
       "      <th>Country</th>\n",
       "      <th>QuantityCanceled</th>\n",
       "      <th>TotalPrice</th>\n",
       "    </tr>\n",
       "  </thead>\n",
       "  <tbody>\n",
       "    <tr>\n",
       "      <th>0</th>\n",
       "      <td>536365</td>\n",
       "      <td>85123A</td>\n",
       "      <td>WHITE HANGING HEART T-LIGHT HOLDER</td>\n",
       "      <td>6</td>\n",
       "      <td>12/1/2010 8:26</td>\n",
       "      <td>2.55</td>\n",
       "      <td>17850</td>\n",
       "      <td>United Kingdom</td>\n",
       "      <td>0</td>\n",
       "      <td>15.30</td>\n",
       "    </tr>\n",
       "    <tr>\n",
       "      <th>1</th>\n",
       "      <td>536365</td>\n",
       "      <td>71053</td>\n",
       "      <td>WHITE METAL LANTERN</td>\n",
       "      <td>6</td>\n",
       "      <td>12/1/2010 8:26</td>\n",
       "      <td>3.39</td>\n",
       "      <td>17850</td>\n",
       "      <td>United Kingdom</td>\n",
       "      <td>0</td>\n",
       "      <td>20.34</td>\n",
       "    </tr>\n",
       "    <tr>\n",
       "      <th>2</th>\n",
       "      <td>536365</td>\n",
       "      <td>84406B</td>\n",
       "      <td>CREAM CUPID HEARTS COAT HANGER</td>\n",
       "      <td>8</td>\n",
       "      <td>12/1/2010 8:26</td>\n",
       "      <td>2.75</td>\n",
       "      <td>17850</td>\n",
       "      <td>United Kingdom</td>\n",
       "      <td>0</td>\n",
       "      <td>22.00</td>\n",
       "    </tr>\n",
       "    <tr>\n",
       "      <th>3</th>\n",
       "      <td>536365</td>\n",
       "      <td>84029G</td>\n",
       "      <td>KNITTED UNION FLAG HOT WATER BOTTLE</td>\n",
       "      <td>6</td>\n",
       "      <td>12/1/2010 8:26</td>\n",
       "      <td>3.39</td>\n",
       "      <td>17850</td>\n",
       "      <td>United Kingdom</td>\n",
       "      <td>0</td>\n",
       "      <td>20.34</td>\n",
       "    </tr>\n",
       "    <tr>\n",
       "      <th>4</th>\n",
       "      <td>536365</td>\n",
       "      <td>84029E</td>\n",
       "      <td>RED WOOLLY HOTTIE WHITE HEART.</td>\n",
       "      <td>6</td>\n",
       "      <td>12/1/2010 8:26</td>\n",
       "      <td>3.39</td>\n",
       "      <td>17850</td>\n",
       "      <td>United Kingdom</td>\n",
       "      <td>0</td>\n",
       "      <td>20.34</td>\n",
       "    </tr>\n",
       "    <tr>\n",
       "      <th>...</th>\n",
       "      <td>...</td>\n",
       "      <td>...</td>\n",
       "      <td>...</td>\n",
       "      <td>...</td>\n",
       "      <td>...</td>\n",
       "      <td>...</td>\n",
       "      <td>...</td>\n",
       "      <td>...</td>\n",
       "      <td>...</td>\n",
       "      <td>...</td>\n",
       "    </tr>\n",
       "    <tr>\n",
       "      <th>541904</th>\n",
       "      <td>581587</td>\n",
       "      <td>22613</td>\n",
       "      <td>PACK OF 20 SPACEBOY NAPKINS</td>\n",
       "      <td>12</td>\n",
       "      <td>12/9/2011 12:50</td>\n",
       "      <td>0.85</td>\n",
       "      <td>12680</td>\n",
       "      <td>France</td>\n",
       "      <td>0</td>\n",
       "      <td>10.20</td>\n",
       "    </tr>\n",
       "    <tr>\n",
       "      <th>541905</th>\n",
       "      <td>581587</td>\n",
       "      <td>22899</td>\n",
       "      <td>CHILDREN'S APRON DOLLY GIRL</td>\n",
       "      <td>6</td>\n",
       "      <td>12/9/2011 12:50</td>\n",
       "      <td>2.10</td>\n",
       "      <td>12680</td>\n",
       "      <td>France</td>\n",
       "      <td>0</td>\n",
       "      <td>12.60</td>\n",
       "    </tr>\n",
       "    <tr>\n",
       "      <th>541906</th>\n",
       "      <td>581587</td>\n",
       "      <td>23254</td>\n",
       "      <td>CHILDRENS CUTLERY DOLLY GIRL</td>\n",
       "      <td>4</td>\n",
       "      <td>12/9/2011 12:50</td>\n",
       "      <td>4.15</td>\n",
       "      <td>12680</td>\n",
       "      <td>France</td>\n",
       "      <td>0</td>\n",
       "      <td>16.60</td>\n",
       "    </tr>\n",
       "    <tr>\n",
       "      <th>541907</th>\n",
       "      <td>581587</td>\n",
       "      <td>23255</td>\n",
       "      <td>CHILDRENS CUTLERY CIRCUS PARADE</td>\n",
       "      <td>4</td>\n",
       "      <td>12/9/2011 12:50</td>\n",
       "      <td>4.15</td>\n",
       "      <td>12680</td>\n",
       "      <td>France</td>\n",
       "      <td>0</td>\n",
       "      <td>16.60</td>\n",
       "    </tr>\n",
       "    <tr>\n",
       "      <th>541908</th>\n",
       "      <td>581587</td>\n",
       "      <td>22138</td>\n",
       "      <td>BAKING SET 9 PIECE RETROSPOT</td>\n",
       "      <td>3</td>\n",
       "      <td>12/9/2011 12:50</td>\n",
       "      <td>4.95</td>\n",
       "      <td>12680</td>\n",
       "      <td>France</td>\n",
       "      <td>0</td>\n",
       "      <td>14.85</td>\n",
       "    </tr>\n",
       "  </tbody>\n",
       "</table>\n",
       "<p>391150 rows × 10 columns</p>\n",
       "</div>"
      ],
      "text/plain": [
       "       InvoiceNo StockCode                          Description  Quantity  \\\n",
       "0         536365    85123A   WHITE HANGING HEART T-LIGHT HOLDER         6   \n",
       "1         536365     71053                  WHITE METAL LANTERN         6   \n",
       "2         536365    84406B       CREAM CUPID HEARTS COAT HANGER         8   \n",
       "3         536365    84029G  KNITTED UNION FLAG HOT WATER BOTTLE         6   \n",
       "4         536365    84029E       RED WOOLLY HOTTIE WHITE HEART.         6   \n",
       "...          ...       ...                                  ...       ...   \n",
       "541904    581587     22613          PACK OF 20 SPACEBOY NAPKINS        12   \n",
       "541905    581587     22899         CHILDREN'S APRON DOLLY GIRL          6   \n",
       "541906    581587     23254        CHILDRENS CUTLERY DOLLY GIRL          4   \n",
       "541907    581587     23255      CHILDRENS CUTLERY CIRCUS PARADE         4   \n",
       "541908    581587     22138        BAKING SET 9 PIECE RETROSPOT          3   \n",
       "\n",
       "            InvoiceDate  UnitPrice CustomerID         Country  \\\n",
       "0        12/1/2010 8:26       2.55      17850  United Kingdom   \n",
       "1        12/1/2010 8:26       3.39      17850  United Kingdom   \n",
       "2        12/1/2010 8:26       2.75      17850  United Kingdom   \n",
       "3        12/1/2010 8:26       3.39      17850  United Kingdom   \n",
       "4        12/1/2010 8:26       3.39      17850  United Kingdom   \n",
       "...                 ...        ...        ...             ...   \n",
       "541904  12/9/2011 12:50       0.85      12680          France   \n",
       "541905  12/9/2011 12:50       2.10      12680          France   \n",
       "541906  12/9/2011 12:50       4.15      12680          France   \n",
       "541907  12/9/2011 12:50       4.15      12680          France   \n",
       "541908  12/9/2011 12:50       4.95      12680          France   \n",
       "\n",
       "        QuantityCanceled  TotalPrice  \n",
       "0                      0       15.30  \n",
       "1                      0       20.34  \n",
       "2                      0       22.00  \n",
       "3                      0       20.34  \n",
       "4                      0       20.34  \n",
       "...                  ...         ...  \n",
       "541904                 0       10.20  \n",
       "541905                 0       12.60  \n",
       "541906                 0       16.60  \n",
       "541907                 0       16.60  \n",
       "541908                 0       14.85  \n",
       "\n",
       "[391150 rows x 10 columns]"
      ]
     },
     "execution_count": 54,
     "metadata": {},
     "output_type": "execute_result"
    }
   ],
   "source": [
    "df_cleaned"
   ]
  },
  {
   "cell_type": "code",
   "execution_count": null,
   "metadata": {},
   "outputs": [],
   "source": [
    "df_cleaned.to_csv('cleaned_data.csv')"
   ]
  },
  {
   "cell_type": "markdown",
   "metadata": {
    "_uuid": "fe334ef9f8165328fc14400be829499b0b2c46f1"
   },
   "source": [
    "**1.3 RFM**"
   ]
  },
  {
   "cell_type": "code",
   "execution_count": 122,
   "metadata": {
    "_uuid": "18d49dba56b261c6de618df427de06447cfcdf75"
   },
   "outputs": [],
   "source": [
    "rfm_data = pd.read_csv(\"cleaned_data.csv\", encoding=\"ISO-8859-1\")\n",
    "rfm_data['CustomerID'] = rfm_data['CustomerID'].astype(int)\n",
    "rfm_data['InvoiceDate'] = rfm_data['InvoiceDate'].astype('datetime64')\n",
    "NOW = rfm_data['InvoiceDate'].max()\n"
   ]
  },
  {
   "cell_type": "code",
   "execution_count": 123,
   "metadata": {
    "_uuid": "faf55dd4b17103474f2fb4b4b59810f79f82e16e"
   },
   "outputs": [],
   "source": [
    "custom_aggregation = {}\n",
    "custom_aggregation[\"InvoiceDate\"] = lambda x:x.iloc[0]\n",
    "custom_aggregation[\"CustomerID\"] = lambda x:x.iloc[0]\n",
    "custom_aggregation[\"TotalPrice\"] = \"sum\"\n",
    "\n",
    "\n",
    "rfmTable = rfm_data.groupby(\"InvoiceNo\").agg(custom_aggregation)"
   ]
  },
  {
   "cell_type": "code",
   "execution_count": 124,
   "metadata": {
    "_uuid": "c83be4a911b4d23e0d0da16e7213376a9aa507a5"
   },
   "outputs": [],
   "source": [
    "rfmTable[\"Recency\"] = NOW - rfmTable[\"InvoiceDate\"]\n",
    "rfmTable[\"Recency\"] = pd.to_timedelta(rfmTable[\"Recency\"]).astype(\"timedelta64[D]\")"
   ]
  },
  {
   "cell_type": "code",
   "execution_count": 125,
   "metadata": {
    "_uuid": "12760f07d1f74e816d23ab2e0a8f3dade428af71"
   },
   "outputs": [],
   "source": [
    "custom_aggregation = {}\n",
    "\n",
    "custom_aggregation[\"Recency\"] = [\"min\", \"max\"]\n",
    "custom_aggregation[\"InvoiceDate\"] = lambda x: len(x)\n",
    "custom_aggregation[\"TotalPrice\"] = \"sum\"\n",
    "\n",
    "rfmTable_final = rfmTable.groupby(\"CustomerID\").agg(custom_aggregation)"
   ]
  },
  {
   "cell_type": "code",
   "execution_count": 126,
   "metadata": {
    "_uuid": "100fb5bcdb7bca1115411168377de516d8e50653"
   },
   "outputs": [],
   "source": [
    "rfmTable_final.columns = [\"min_recency\", \"max_recency\", \"frequency\", \"monetary value\"]"
   ]
  },
  {
   "cell_type": "code",
   "execution_count": 127,
   "metadata": {
    "_uuid": "8df9a31ae1e45fa8ea6b461e04114386fc90dbdc"
   },
   "outputs": [
    {
     "data": {
      "text/html": [
       "<div>\n",
       "<style scoped>\n",
       "    .dataframe tbody tr th:only-of-type {\n",
       "        vertical-align: middle;\n",
       "    }\n",
       "\n",
       "    .dataframe tbody tr th {\n",
       "        vertical-align: top;\n",
       "    }\n",
       "\n",
       "    .dataframe thead th {\n",
       "        text-align: right;\n",
       "    }\n",
       "</style>\n",
       "<table border=\"1\" class=\"dataframe\">\n",
       "  <thead>\n",
       "    <tr style=\"text-align: right;\">\n",
       "      <th></th>\n",
       "      <th>min_recency</th>\n",
       "      <th>max_recency</th>\n",
       "      <th>frequency</th>\n",
       "      <th>monetary value</th>\n",
       "    </tr>\n",
       "    <tr>\n",
       "      <th>CustomerID</th>\n",
       "      <th></th>\n",
       "      <th></th>\n",
       "      <th></th>\n",
       "      <th></th>\n",
       "    </tr>\n",
       "  </thead>\n",
       "  <tbody>\n",
       "    <tr>\n",
       "      <th>12346</th>\n",
       "      <td>325.0</td>\n",
       "      <td>325.0</td>\n",
       "      <td>1</td>\n",
       "      <td>0.00</td>\n",
       "    </tr>\n",
       "    <tr>\n",
       "      <th>12347</th>\n",
       "      <td>1.0</td>\n",
       "      <td>366.0</td>\n",
       "      <td>7</td>\n",
       "      <td>4310.00</td>\n",
       "    </tr>\n",
       "    <tr>\n",
       "      <th>12348</th>\n",
       "      <td>74.0</td>\n",
       "      <td>357.0</td>\n",
       "      <td>4</td>\n",
       "      <td>1437.24</td>\n",
       "    </tr>\n",
       "    <tr>\n",
       "      <th>12349</th>\n",
       "      <td>18.0</td>\n",
       "      <td>18.0</td>\n",
       "      <td>1</td>\n",
       "      <td>1457.55</td>\n",
       "    </tr>\n",
       "    <tr>\n",
       "      <th>12350</th>\n",
       "      <td>309.0</td>\n",
       "      <td>309.0</td>\n",
       "      <td>1</td>\n",
       "      <td>294.40</td>\n",
       "    </tr>\n",
       "    <tr>\n",
       "      <th>...</th>\n",
       "      <td>...</td>\n",
       "      <td>...</td>\n",
       "      <td>...</td>\n",
       "      <td>...</td>\n",
       "    </tr>\n",
       "    <tr>\n",
       "      <th>18280</th>\n",
       "      <td>277.0</td>\n",
       "      <td>277.0</td>\n",
       "      <td>1</td>\n",
       "      <td>180.60</td>\n",
       "    </tr>\n",
       "    <tr>\n",
       "      <th>18281</th>\n",
       "      <td>180.0</td>\n",
       "      <td>180.0</td>\n",
       "      <td>1</td>\n",
       "      <td>80.82</td>\n",
       "    </tr>\n",
       "    <tr>\n",
       "      <th>18282</th>\n",
       "      <td>7.0</td>\n",
       "      <td>125.0</td>\n",
       "      <td>2</td>\n",
       "      <td>176.60</td>\n",
       "    </tr>\n",
       "    <tr>\n",
       "      <th>18283</th>\n",
       "      <td>3.0</td>\n",
       "      <td>336.0</td>\n",
       "      <td>16</td>\n",
       "      <td>2039.58</td>\n",
       "    </tr>\n",
       "    <tr>\n",
       "      <th>18287</th>\n",
       "      <td>42.0</td>\n",
       "      <td>201.0</td>\n",
       "      <td>3</td>\n",
       "      <td>1837.28</td>\n",
       "    </tr>\n",
       "  </tbody>\n",
       "</table>\n",
       "<p>4334 rows × 4 columns</p>\n",
       "</div>"
      ],
      "text/plain": [
       "            min_recency  max_recency  frequency  monetary value\n",
       "CustomerID                                                     \n",
       "12346             325.0        325.0          1            0.00\n",
       "12347               1.0        366.0          7         4310.00\n",
       "12348              74.0        357.0          4         1437.24\n",
       "12349              18.0         18.0          1         1457.55\n",
       "12350             309.0        309.0          1          294.40\n",
       "...                 ...          ...        ...             ...\n",
       "18280             277.0        277.0          1          180.60\n",
       "18281             180.0        180.0          1           80.82\n",
       "18282               7.0        125.0          2          176.60\n",
       "18283               3.0        336.0         16         2039.58\n",
       "18287              42.0        201.0          3         1837.28\n",
       "\n",
       "[4334 rows x 4 columns]"
      ]
     },
     "execution_count": 127,
     "metadata": {},
     "output_type": "execute_result"
    }
   ],
   "source": [
    "rfmTable_final"
   ]
  },
  {
   "cell_type": "code",
   "execution_count": 128,
   "metadata": {},
   "outputs": [
    {
     "data": {
      "text/html": [
       "<div>\n",
       "<style scoped>\n",
       "    .dataframe tbody tr th:only-of-type {\n",
       "        vertical-align: middle;\n",
       "    }\n",
       "\n",
       "    .dataframe tbody tr th {\n",
       "        vertical-align: top;\n",
       "    }\n",
       "\n",
       "    .dataframe thead th {\n",
       "        text-align: right;\n",
       "    }\n",
       "</style>\n",
       "<table border=\"1\" class=\"dataframe\">\n",
       "  <thead>\n",
       "    <tr style=\"text-align: right;\">\n",
       "      <th></th>\n",
       "      <th>min_recency</th>\n",
       "      <th>max_recency</th>\n",
       "      <th>frequency</th>\n",
       "      <th>monetary value</th>\n",
       "      <th>recency</th>\n",
       "    </tr>\n",
       "    <tr>\n",
       "      <th>CustomerID</th>\n",
       "      <th></th>\n",
       "      <th></th>\n",
       "      <th></th>\n",
       "      <th></th>\n",
       "      <th></th>\n",
       "    </tr>\n",
       "  </thead>\n",
       "  <tbody>\n",
       "    <tr>\n",
       "      <th>12346</th>\n",
       "      <td>325.0</td>\n",
       "      <td>325.0</td>\n",
       "      <td>1</td>\n",
       "      <td>0.00</td>\n",
       "      <td>0.0</td>\n",
       "    </tr>\n",
       "    <tr>\n",
       "      <th>12347</th>\n",
       "      <td>1.0</td>\n",
       "      <td>366.0</td>\n",
       "      <td>7</td>\n",
       "      <td>4310.00</td>\n",
       "      <td>365.0</td>\n",
       "    </tr>\n",
       "    <tr>\n",
       "      <th>12348</th>\n",
       "      <td>74.0</td>\n",
       "      <td>357.0</td>\n",
       "      <td>4</td>\n",
       "      <td>1437.24</td>\n",
       "      <td>283.0</td>\n",
       "    </tr>\n",
       "    <tr>\n",
       "      <th>12349</th>\n",
       "      <td>18.0</td>\n",
       "      <td>18.0</td>\n",
       "      <td>1</td>\n",
       "      <td>1457.55</td>\n",
       "      <td>0.0</td>\n",
       "    </tr>\n",
       "    <tr>\n",
       "      <th>12350</th>\n",
       "      <td>309.0</td>\n",
       "      <td>309.0</td>\n",
       "      <td>1</td>\n",
       "      <td>294.40</td>\n",
       "      <td>0.0</td>\n",
       "    </tr>\n",
       "    <tr>\n",
       "      <th>...</th>\n",
       "      <td>...</td>\n",
       "      <td>...</td>\n",
       "      <td>...</td>\n",
       "      <td>...</td>\n",
       "      <td>...</td>\n",
       "    </tr>\n",
       "    <tr>\n",
       "      <th>18280</th>\n",
       "      <td>277.0</td>\n",
       "      <td>277.0</td>\n",
       "      <td>1</td>\n",
       "      <td>180.60</td>\n",
       "      <td>0.0</td>\n",
       "    </tr>\n",
       "    <tr>\n",
       "      <th>18281</th>\n",
       "      <td>180.0</td>\n",
       "      <td>180.0</td>\n",
       "      <td>1</td>\n",
       "      <td>80.82</td>\n",
       "      <td>0.0</td>\n",
       "    </tr>\n",
       "    <tr>\n",
       "      <th>18282</th>\n",
       "      <td>7.0</td>\n",
       "      <td>125.0</td>\n",
       "      <td>2</td>\n",
       "      <td>176.60</td>\n",
       "      <td>118.0</td>\n",
       "    </tr>\n",
       "    <tr>\n",
       "      <th>18283</th>\n",
       "      <td>3.0</td>\n",
       "      <td>336.0</td>\n",
       "      <td>16</td>\n",
       "      <td>2039.58</td>\n",
       "      <td>333.0</td>\n",
       "    </tr>\n",
       "    <tr>\n",
       "      <th>18287</th>\n",
       "      <td>42.0</td>\n",
       "      <td>201.0</td>\n",
       "      <td>3</td>\n",
       "      <td>1837.28</td>\n",
       "      <td>159.0</td>\n",
       "    </tr>\n",
       "  </tbody>\n",
       "</table>\n",
       "<p>4334 rows × 5 columns</p>\n",
       "</div>"
      ],
      "text/plain": [
       "            min_recency  max_recency  frequency  monetary value  recency\n",
       "CustomerID                                                              \n",
       "12346             325.0        325.0          1            0.00      0.0\n",
       "12347               1.0        366.0          7         4310.00    365.0\n",
       "12348              74.0        357.0          4         1437.24    283.0\n",
       "12349              18.0         18.0          1         1457.55      0.0\n",
       "12350             309.0        309.0          1          294.40      0.0\n",
       "...                 ...          ...        ...             ...      ...\n",
       "18280             277.0        277.0          1          180.60      0.0\n",
       "18281             180.0        180.0          1           80.82      0.0\n",
       "18282               7.0        125.0          2          176.60    118.0\n",
       "18283               3.0        336.0         16         2039.58    333.0\n",
       "18287              42.0        201.0          3         1837.28    159.0\n",
       "\n",
       "[4334 rows x 5 columns]"
      ]
     },
     "execution_count": 128,
     "metadata": {},
     "output_type": "execute_result"
    }
   ],
   "source": [
    "rfmTable_final['recency'] = rfmTable_final['max_recency'] - rfmTable_final['min_recency']\n",
    "rfmTable_final "
   ]
  },
  {
   "cell_type": "code",
   "execution_count": 129,
   "metadata": {},
   "outputs": [
    {
     "data": {
      "text/html": [
       "<div>\n",
       "<style scoped>\n",
       "    .dataframe tbody tr th:only-of-type {\n",
       "        vertical-align: middle;\n",
       "    }\n",
       "\n",
       "    .dataframe tbody tr th {\n",
       "        vertical-align: top;\n",
       "    }\n",
       "\n",
       "    .dataframe thead th {\n",
       "        text-align: right;\n",
       "    }\n",
       "</style>\n",
       "<table border=\"1\" class=\"dataframe\">\n",
       "  <thead>\n",
       "    <tr style=\"text-align: right;\">\n",
       "      <th></th>\n",
       "      <th>recency</th>\n",
       "      <th>frequency</th>\n",
       "      <th>monetary value</th>\n",
       "    </tr>\n",
       "    <tr>\n",
       "      <th>CustomerID</th>\n",
       "      <th></th>\n",
       "      <th></th>\n",
       "      <th></th>\n",
       "    </tr>\n",
       "  </thead>\n",
       "  <tbody>\n",
       "    <tr>\n",
       "      <th>12346</th>\n",
       "      <td>0.0</td>\n",
       "      <td>1</td>\n",
       "      <td>0.00</td>\n",
       "    </tr>\n",
       "    <tr>\n",
       "      <th>12347</th>\n",
       "      <td>365.0</td>\n",
       "      <td>7</td>\n",
       "      <td>4310.00</td>\n",
       "    </tr>\n",
       "    <tr>\n",
       "      <th>12348</th>\n",
       "      <td>283.0</td>\n",
       "      <td>4</td>\n",
       "      <td>1437.24</td>\n",
       "    </tr>\n",
       "    <tr>\n",
       "      <th>12349</th>\n",
       "      <td>0.0</td>\n",
       "      <td>1</td>\n",
       "      <td>1457.55</td>\n",
       "    </tr>\n",
       "    <tr>\n",
       "      <th>12350</th>\n",
       "      <td>0.0</td>\n",
       "      <td>1</td>\n",
       "      <td>294.40</td>\n",
       "    </tr>\n",
       "    <tr>\n",
       "      <th>...</th>\n",
       "      <td>...</td>\n",
       "      <td>...</td>\n",
       "      <td>...</td>\n",
       "    </tr>\n",
       "    <tr>\n",
       "      <th>18280</th>\n",
       "      <td>0.0</td>\n",
       "      <td>1</td>\n",
       "      <td>180.60</td>\n",
       "    </tr>\n",
       "    <tr>\n",
       "      <th>18281</th>\n",
       "      <td>0.0</td>\n",
       "      <td>1</td>\n",
       "      <td>80.82</td>\n",
       "    </tr>\n",
       "    <tr>\n",
       "      <th>18282</th>\n",
       "      <td>118.0</td>\n",
       "      <td>2</td>\n",
       "      <td>176.60</td>\n",
       "    </tr>\n",
       "    <tr>\n",
       "      <th>18283</th>\n",
       "      <td>333.0</td>\n",
       "      <td>16</td>\n",
       "      <td>2039.58</td>\n",
       "    </tr>\n",
       "    <tr>\n",
       "      <th>18287</th>\n",
       "      <td>159.0</td>\n",
       "      <td>3</td>\n",
       "      <td>1837.28</td>\n",
       "    </tr>\n",
       "  </tbody>\n",
       "</table>\n",
       "<p>4334 rows × 3 columns</p>\n",
       "</div>"
      ],
      "text/plain": [
       "            recency  frequency  monetary value\n",
       "CustomerID                                    \n",
       "12346           0.0          1            0.00\n",
       "12347         365.0          7         4310.00\n",
       "12348         283.0          4         1437.24\n",
       "12349           0.0          1         1457.55\n",
       "12350           0.0          1          294.40\n",
       "...             ...        ...             ...\n",
       "18280           0.0          1          180.60\n",
       "18281           0.0          1           80.82\n",
       "18282         118.0          2          176.60\n",
       "18283         333.0         16         2039.58\n",
       "18287         159.0          3         1837.28\n",
       "\n",
       "[4334 rows x 3 columns]"
      ]
     },
     "execution_count": 129,
     "metadata": {},
     "output_type": "execute_result"
    }
   ],
   "source": [
    "rfm_final = rfmTable_final[['recency', 'frequency', 'monetary value']]\n",
    "rfm_final"
   ]
  },
  {
   "cell_type": "code",
   "execution_count": 130,
   "metadata": {},
   "outputs": [
    {
     "name": "stdout",
     "output_type": "stream",
     "text": [
      "<class 'pandas.core.frame.DataFrame'>\n",
      "Int64Index: 4334 entries, 12346 to 18287\n",
      "Data columns (total 3 columns):\n",
      " #   Column          Non-Null Count  Dtype  \n",
      "---  ------          --------------  -----  \n",
      " 0   recency         4334 non-null   float64\n",
      " 1   frequency       4334 non-null   int64  \n",
      " 2   monetary value  4334 non-null   float64\n",
      "dtypes: float64(2), int64(1)\n",
      "memory usage: 135.4 KB\n"
     ]
    }
   ],
   "source": [
    "rfm_final.info()"
   ]
  },
  {
   "cell_type": "code",
   "execution_count": null,
   "metadata": {},
   "outputs": [],
   "source": [
    "rfm_final.to_csv('rfm_final.csv')"
   ]
  },
  {
   "cell_type": "code",
   "execution_count": null,
   "metadata": {},
   "outputs": [
    {
     "data": {
      "image/png": "[encoded data removed]",
      "text/plain": [
       "<Figure size 432x288 with 1 Axes>"
      ]
     },
     "metadata": {
      "needs_background": "light"
     },
     "output_type": "display_data"
    }
   ],
   "source": [
    "#Find most suitable number of clusters\n",
    "sum_distances = []\n",
    "K = range(1,15)\n",
    "for k in K:\n",
    "  k_mean = KMeans(n_clusters=k)\n",
    "  k_mean.fit(rfm_final)\n",
    "  sum_distances.append(k_mean.inertia_)\n",
    "\n",
    "plt.plot(K, sum_distances, 'bx-')\n",
    "plt.show()"
   ]
  },
  {
   "cell_type": "markdown",
   "metadata": {},
   "source": [
    "This graph is the Elbow method and based on that, k from 2 to 4 may optimal"
   ]
  },
  {
   "cell_type": "markdown",
   "metadata": {},
   "source": [
    "#### Check with the Silhouette Method and Calinski Harabasz to find optimal K"
   ]
  },
  {
   "cell_type": "code",
   "execution_count": null,
   "metadata": {},
   "outputs": [
    {
     "name": "stdout",
     "output_type": "stream",
     "text": [
      "Silhouette score for 2 cluster:  0.9863671162300737\n",
      "Calinski Harabasz score for 2 cluster:  8348.107832593774\n",
      "Silhouette score for 3 cluster:  0.9631162212161485\n",
      "Calinski Harabasz score for 3 cluster:  11315.60992681182\n",
      "Silhouette score for 4 cluster:  0.8840822604035335\n",
      "Calinski Harabasz score for 4 cluster:  13450.809748726744\n"
     ]
    }
   ],
   "source": [
    "for k in range(2, 5):\n",
    "    k_mean_k = KMeans(n_clusters=k)\n",
    "    model = k_mean_k.fit(rfm_final)\n",
    "    result = k_mean_k.labels_\n",
    "    print('Silhouette score for', k, 'cluster: ',metrics.silhouette_score(rfm_final, result, metric='euclidean'))\n",
    "    print('Calinski Harabasz score for', k, 'cluster: ',metrics.calinski_harabasz_score(rfm_final, result))"
   ]
  },
  {
   "cell_type": "code",
   "execution_count": null,
   "metadata": {},
   "outputs": [
    {
     "data": {
      "image/png": "[encoded data removed]",
      "text/plain": [
       "<Figure size 432x288 with 1 Axes>"
      ]
     },
     "metadata": {
      "needs_background": "light"
     },
     "output_type": "display_data"
    }
   ],
   "source": [
    "from sklearn.decomposition import PCA\n",
    "\n",
    "pca = PCA(2)\n",
    " \n",
    "#Transform the data\n",
    "df = pca.fit_transform(rfm_final)\n",
    " \n",
    "#Import KMeans module\n",
    "from sklearn.cluster import KMeans\n",
    " \n",
    "#Initialize the class object\n",
    "kmeans = KMeans(n_clusters= 3)\n",
    " \n",
    "#predict the labels of clusters.\n",
    "label = kmeans.fit_predict(df)\n",
    " \n",
    "#Getting unique labels\n",
    "u_labels = np.unique(label)\n",
    " \n",
    "#plotting the results:\n",
    "for i in u_labels:\n",
    "    plt.scatter(df[label == i , 0] , df[label == i , 1] , label = i)\n",
    "plt.legend()\n",
    "plt.show()"
   ]
  },
  {
   "cell_type": "code",
   "execution_count": null,
   "metadata": {},
   "outputs": [
    {
     "data": {
      "text/plain": [
       "array([0, 0, 0, ..., 0, 0, 0], dtype=int32)"
      ]
     },
     "execution_count": 68,
     "metadata": {},
     "output_type": "execute_result"
    }
   ],
   "source": [
    "km = KMeans(n_clusters=3)\n",
    "y_predict = km.fit_predict(rfm_final[['frequency', 'monetary value']]) \n",
    "y_predict"
   ]
  },
  {
   "cell_type": "code",
   "execution_count": null,
   "metadata": {},
   "outputs": [
    {
     "data": {
      "text/html": [
       "<div>\n",
       "<style scoped>\n",
       "    .dataframe tbody tr th:only-of-type {\n",
       "        vertical-align: middle;\n",
       "    }\n",
       "\n",
       "    .dataframe tbody tr th {\n",
       "        vertical-align: top;\n",
       "    }\n",
       "\n",
       "    .dataframe thead th {\n",
       "        text-align: right;\n",
       "    }\n",
       "</style>\n",
       "<table border=\"1\" class=\"dataframe\">\n",
       "  <thead>\n",
       "    <tr style=\"text-align: right;\">\n",
       "      <th></th>\n",
       "      <th>recency</th>\n",
       "      <th>frequency</th>\n",
       "      <th>monetary value</th>\n",
       "      <th>cluster</th>\n",
       "    </tr>\n",
       "    <tr>\n",
       "      <th>CustomerID</th>\n",
       "      <th></th>\n",
       "      <th></th>\n",
       "      <th></th>\n",
       "      <th></th>\n",
       "    </tr>\n",
       "  </thead>\n",
       "  <tbody>\n",
       "    <tr>\n",
       "      <th>12346</th>\n",
       "      <td>0.0</td>\n",
       "      <td>1</td>\n",
       "      <td>0.00</td>\n",
       "      <td>0</td>\n",
       "    </tr>\n",
       "    <tr>\n",
       "      <th>12347</th>\n",
       "      <td>365.0</td>\n",
       "      <td>7</td>\n",
       "      <td>4310.00</td>\n",
       "      <td>0</td>\n",
       "    </tr>\n",
       "    <tr>\n",
       "      <th>12348</th>\n",
       "      <td>283.0</td>\n",
       "      <td>4</td>\n",
       "      <td>1437.24</td>\n",
       "      <td>0</td>\n",
       "    </tr>\n",
       "    <tr>\n",
       "      <th>12349</th>\n",
       "      <td>0.0</td>\n",
       "      <td>1</td>\n",
       "      <td>1457.55</td>\n",
       "      <td>0</td>\n",
       "    </tr>\n",
       "    <tr>\n",
       "      <th>12350</th>\n",
       "      <td>0.0</td>\n",
       "      <td>1</td>\n",
       "      <td>294.40</td>\n",
       "      <td>0</td>\n",
       "    </tr>\n",
       "    <tr>\n",
       "      <th>...</th>\n",
       "      <td>...</td>\n",
       "      <td>...</td>\n",
       "      <td>...</td>\n",
       "      <td>...</td>\n",
       "    </tr>\n",
       "    <tr>\n",
       "      <th>18280</th>\n",
       "      <td>0.0</td>\n",
       "      <td>1</td>\n",
       "      <td>180.60</td>\n",
       "      <td>0</td>\n",
       "    </tr>\n",
       "    <tr>\n",
       "      <th>18281</th>\n",
       "      <td>0.0</td>\n",
       "      <td>1</td>\n",
       "      <td>80.82</td>\n",
       "      <td>0</td>\n",
       "    </tr>\n",
       "    <tr>\n",
       "      <th>18282</th>\n",
       "      <td>118.0</td>\n",
       "      <td>2</td>\n",
       "      <td>176.60</td>\n",
       "      <td>0</td>\n",
       "    </tr>\n",
       "    <tr>\n",
       "      <th>18283</th>\n",
       "      <td>333.0</td>\n",
       "      <td>16</td>\n",
       "      <td>2039.58</td>\n",
       "      <td>0</td>\n",
       "    </tr>\n",
       "    <tr>\n",
       "      <th>18287</th>\n",
       "      <td>159.0</td>\n",
       "      <td>3</td>\n",
       "      <td>1837.28</td>\n",
       "      <td>0</td>\n",
       "    </tr>\n",
       "  </tbody>\n",
       "</table>\n",
       "<p>4334 rows × 4 columns</p>\n",
       "</div>"
      ],
      "text/plain": [
       "            recency  frequency  monetary value  cluster\n",
       "CustomerID                                             \n",
       "12346           0.0          1            0.00        0\n",
       "12347         365.0          7         4310.00        0\n",
       "12348         283.0          4         1437.24        0\n",
       "12349           0.0          1         1457.55        0\n",
       "12350           0.0          1          294.40        0\n",
       "...             ...        ...             ...      ...\n",
       "18280           0.0          1          180.60        0\n",
       "18281           0.0          1           80.82        0\n",
       "18282         118.0          2          176.60        0\n",
       "18283         333.0         16         2039.58        0\n",
       "18287         159.0          3         1837.28        0\n",
       "\n",
       "[4334 rows x 4 columns]"
      ]
     },
     "execution_count": 69,
     "metadata": {},
     "output_type": "execute_result"
    }
   ],
   "source": [
    "rfm_final['cluster']=y_predict\n",
    "rfm_final"
   ]
  },
  {
   "cell_type": "code",
   "execution_count": null,
   "metadata": {},
   "outputs": [
    {
     "data": {
      "text/plain": [
       "0    4307\n",
       "2      24\n",
       "1       3\n",
       "Name: cluster, dtype: int64"
      ]
     },
     "execution_count": 70,
     "metadata": {},
     "output_type": "execute_result"
    }
   ],
   "source": [
    "rfm_final[\"cluster\"].value_counts()"
   ]
  },
  {
   "cell_type": "markdown",
   "metadata": {},
   "source": [
    "### We scale rfm"
   ]
  },
  {
   "cell_type": "code",
   "execution_count": null,
   "metadata": {},
   "outputs": [
    {
     "data": {
      "text/html": [
       "<div>\n",
       "<style scoped>\n",
       "    .dataframe tbody tr th:only-of-type {\n",
       "        vertical-align: middle;\n",
       "    }\n",
       "\n",
       "    .dataframe tbody tr th {\n",
       "        vertical-align: top;\n",
       "    }\n",
       "\n",
       "    .dataframe thead th {\n",
       "        text-align: right;\n",
       "    }\n",
       "</style>\n",
       "<table border=\"1\" class=\"dataframe\">\n",
       "  <thead>\n",
       "    <tr style=\"text-align: right;\">\n",
       "      <th></th>\n",
       "      <th>recency</th>\n",
       "      <th>frequency</th>\n",
       "      <th>monetary value</th>\n",
       "    </tr>\n",
       "  </thead>\n",
       "  <tbody>\n",
       "    <tr>\n",
       "      <th>0</th>\n",
       "      <td>-0.987601</td>\n",
       "      <td>-0.425192</td>\n",
       "      <td>-0.229930</td>\n",
       "    </tr>\n",
       "    <tr>\n",
       "      <th>1</th>\n",
       "      <td>1.772371</td>\n",
       "      <td>0.360754</td>\n",
       "      <td>0.287679</td>\n",
       "    </tr>\n",
       "    <tr>\n",
       "      <th>2</th>\n",
       "      <td>1.152323</td>\n",
       "      <td>-0.032219</td>\n",
       "      <td>-0.057325</td>\n",
       "    </tr>\n",
       "    <tr>\n",
       "      <th>3</th>\n",
       "      <td>-0.987601</td>\n",
       "      <td>-0.425192</td>\n",
       "      <td>-0.054885</td>\n",
       "    </tr>\n",
       "    <tr>\n",
       "      <th>4</th>\n",
       "      <td>-0.987601</td>\n",
       "      <td>-0.425192</td>\n",
       "      <td>-0.194574</td>\n",
       "    </tr>\n",
       "    <tr>\n",
       "      <th>...</th>\n",
       "      <td>...</td>\n",
       "      <td>...</td>\n",
       "      <td>...</td>\n",
       "    </tr>\n",
       "    <tr>\n",
       "      <th>4329</th>\n",
       "      <td>-0.987601</td>\n",
       "      <td>-0.425192</td>\n",
       "      <td>-0.208241</td>\n",
       "    </tr>\n",
       "    <tr>\n",
       "      <th>4330</th>\n",
       "      <td>-0.987601</td>\n",
       "      <td>-0.425192</td>\n",
       "      <td>-0.220224</td>\n",
       "    </tr>\n",
       "    <tr>\n",
       "      <th>4331</th>\n",
       "      <td>-0.095336</td>\n",
       "      <td>-0.294201</td>\n",
       "      <td>-0.208721</td>\n",
       "    </tr>\n",
       "    <tr>\n",
       "      <th>4332</th>\n",
       "      <td>1.530401</td>\n",
       "      <td>1.539674</td>\n",
       "      <td>0.015013</td>\n",
       "    </tr>\n",
       "    <tr>\n",
       "      <th>4333</th>\n",
       "      <td>0.214688</td>\n",
       "      <td>-0.163210</td>\n",
       "      <td>-0.009282</td>\n",
       "    </tr>\n",
       "  </tbody>\n",
       "</table>\n",
       "<p>4334 rows × 3 columns</p>\n",
       "</div>"
      ],
      "text/plain": [
       "       recency  frequency  monetary value\n",
       "0    -0.987601  -0.425192       -0.229930\n",
       "1     1.772371   0.360754        0.287679\n",
       "2     1.152323  -0.032219       -0.057325\n",
       "3    -0.987601  -0.425192       -0.054885\n",
       "4    -0.987601  -0.425192       -0.194574\n",
       "...        ...        ...             ...\n",
       "4329 -0.987601  -0.425192       -0.208241\n",
       "4330 -0.987601  -0.425192       -0.220224\n",
       "4331 -0.095336  -0.294201       -0.208721\n",
       "4332  1.530401   1.539674        0.015013\n",
       "4333  0.214688  -0.163210       -0.009282\n",
       "\n",
       "[4334 rows x 3 columns]"
      ]
     },
     "execution_count": 85,
     "metadata": {},
     "output_type": "execute_result"
    }
   ],
   "source": [
    "from sklearn.preprocessing import StandardScaler\n",
    "rfm_data_scale = StandardScaler()\n",
    "rfm_data_scale = rfm_data_scale.fit_transform(rfm_final) \n",
    "rfm_data_scale = rfm_data_scale.tolist()\n",
    "\n",
    "df_rfm_data_scale = pd.DataFrame (rfm_data_scale, columns = ['recency', 'frequency', 'monetary value'])\n",
    "df_rfm_data_scale"
   ]
  },
  {
   "cell_type": "code",
   "execution_count": null,
   "metadata": {},
   "outputs": [
    {
     "data": {
      "image/png": "[encoded data removed]",
      "text/plain": [
       "<Figure size 432x288 with 1 Axes>"
      ]
     },
     "metadata": {
      "needs_background": "light"
     },
     "output_type": "display_data"
    }
   ],
   "source": [
    "#Find most suitable number of clusters\n",
    "sum_distances = []\n",
    "K = range(1,15)\n",
    "for k in K:\n",
    "  k_mean = KMeans(n_clusters=k)\n",
    "  k_mean.fit(df_rfm_data_scale)\n",
    "  sum_distances.append(k_mean.inertia_)\n",
    "\n",
    "plt.plot(K, sum_distances, 'bx-')\n",
    "plt.show()"
   ]
  },
  {
   "cell_type": "code",
   "execution_count": null,
   "metadata": {},
   "outputs": [
    {
     "name": "stdout",
     "output_type": "stream",
     "text": [
      "Silhouette score for 2 cluster:  0.6238393254543169\n",
      "Calinski Harabasz score for 2 cluster:  12838.825187745173\n",
      "Silhouette score for 3 cluster:  0.5908188728795639\n",
      "Calinski Harabasz score for 3 cluster:  17342.135416034867\n",
      "Silhouette score for 4 cluster:  0.5706354841949581\n",
      "Calinski Harabasz score for 4 cluster:  21568.483167975213\n"
     ]
    }
   ],
   "source": [
    "for k in range(2, 5):\n",
    "    k_mean_k = KMeans(n_clusters=k)\n",
    "    model = k_mean_k.fit(df_rfm_data_scale)\n",
    "    result = k_mean_k.labels_\n",
    "    print('Silhouette score for', k, 'cluster: ',metrics.silhouette_score(df_rfm_data_scale, result, metric='euclidean'))\n",
    "    print('Calinski Harabasz score for', k, 'cluster: ',metrics.calinski_harabasz_score(df_rfm_data_scale, result))"
   ]
  },
  {
   "cell_type": "code",
   "execution_count": null,
   "metadata": {},
   "outputs": [
    {
     "data": {
      "image/png": "[encoded data removed]",
      "text/plain": [
       "<Figure size 432x288 with 1 Axes>"
      ]
     },
     "metadata": {
      "needs_background": "light"
     },
     "output_type": "display_data"
    }
   ],
   "source": [
    "from sklearn.decomposition import PCA\n",
    "\n",
    "pca = PCA(2)\n",
    " \n",
    "#Transform the data\n",
    "df = pca.fit_transform(df_rfm_data_scale)\n",
    " \n",
    "#Import KMeans module\n",
    "from sklearn.cluster import KMeans\n",
    " \n",
    "#Initialize the class object\n",
    "kmeans = KMeans(n_clusters= 3)\n",
    " \n",
    "#predict the labels of clusters.\n",
    "label = kmeans.fit_predict(df)\n",
    " \n",
    "#Getting unique labels\n",
    "u_labels = np.unique(label)\n",
    " \n",
    "#plotting the results:\n",
    "for i in u_labels:\n",
    "    plt.scatter(df[label == i , 0] , df[label == i , 1] , label = i)\n",
    "plt.legend()\n",
    "plt.show()"
   ]
  },
  {
   "cell_type": "code",
   "execution_count": null,
   "metadata": {},
   "outputs": [
    {
     "data": {
      "text/plain": [
       "array([0, 0, 0, ..., 0, 2, 0], dtype=int32)"
      ]
     },
     "execution_count": 91,
     "metadata": {},
     "output_type": "execute_result"
    }
   ],
   "source": [
    "km = KMeans(n_clusters=3)\n",
    "y_predicted = km.fit_predict(df_rfm_data_scale[['frequency', 'monetary value']]) \n",
    "y_predicted"
   ]
  },
  {
   "cell_type": "code",
   "execution_count": null,
   "metadata": {},
   "outputs": [
    {
     "data": {
      "text/html": [
       "<div>\n",
       "<style scoped>\n",
       "    .dataframe tbody tr th:only-of-type {\n",
       "        vertical-align: middle;\n",
       "    }\n",
       "\n",
       "    .dataframe tbody tr th {\n",
       "        vertical-align: top;\n",
       "    }\n",
       "\n",
       "    .dataframe thead th {\n",
       "        text-align: right;\n",
       "    }\n",
       "</style>\n",
       "<table border=\"1\" class=\"dataframe\">\n",
       "  <thead>\n",
       "    <tr style=\"text-align: right;\">\n",
       "      <th></th>\n",
       "      <th>recency</th>\n",
       "      <th>frequency</th>\n",
       "      <th>monetary value</th>\n",
       "      <th>CustomerID</th>\n",
       "      <th>cluster</th>\n",
       "    </tr>\n",
       "  </thead>\n",
       "  <tbody>\n",
       "    <tr>\n",
       "      <th>0</th>\n",
       "      <td>-0.987601</td>\n",
       "      <td>-0.425192</td>\n",
       "      <td>-0.229930</td>\n",
       "      <td>12346</td>\n",
       "      <td>0</td>\n",
       "    </tr>\n",
       "    <tr>\n",
       "      <th>1</th>\n",
       "      <td>1.772371</td>\n",
       "      <td>0.360754</td>\n",
       "      <td>0.287679</td>\n",
       "      <td>12347</td>\n",
       "      <td>0</td>\n",
       "    </tr>\n",
       "    <tr>\n",
       "      <th>2</th>\n",
       "      <td>1.152323</td>\n",
       "      <td>-0.032219</td>\n",
       "      <td>-0.057325</td>\n",
       "      <td>12348</td>\n",
       "      <td>0</td>\n",
       "    </tr>\n",
       "    <tr>\n",
       "      <th>3</th>\n",
       "      <td>-0.987601</td>\n",
       "      <td>-0.425192</td>\n",
       "      <td>-0.054885</td>\n",
       "      <td>12349</td>\n",
       "      <td>0</td>\n",
       "    </tr>\n",
       "    <tr>\n",
       "      <th>4</th>\n",
       "      <td>-0.987601</td>\n",
       "      <td>-0.425192</td>\n",
       "      <td>-0.194574</td>\n",
       "      <td>12350</td>\n",
       "      <td>0</td>\n",
       "    </tr>\n",
       "    <tr>\n",
       "      <th>...</th>\n",
       "      <td>...</td>\n",
       "      <td>...</td>\n",
       "      <td>...</td>\n",
       "      <td>...</td>\n",
       "      <td>...</td>\n",
       "    </tr>\n",
       "    <tr>\n",
       "      <th>4329</th>\n",
       "      <td>-0.987601</td>\n",
       "      <td>-0.425192</td>\n",
       "      <td>-0.208241</td>\n",
       "      <td>18280</td>\n",
       "      <td>0</td>\n",
       "    </tr>\n",
       "    <tr>\n",
       "      <th>4330</th>\n",
       "      <td>-0.987601</td>\n",
       "      <td>-0.425192</td>\n",
       "      <td>-0.220224</td>\n",
       "      <td>18281</td>\n",
       "      <td>0</td>\n",
       "    </tr>\n",
       "    <tr>\n",
       "      <th>4331</th>\n",
       "      <td>-0.095336</td>\n",
       "      <td>-0.294201</td>\n",
       "      <td>-0.208721</td>\n",
       "      <td>18282</td>\n",
       "      <td>0</td>\n",
       "    </tr>\n",
       "    <tr>\n",
       "      <th>4332</th>\n",
       "      <td>1.530401</td>\n",
       "      <td>1.539674</td>\n",
       "      <td>0.015013</td>\n",
       "      <td>18283</td>\n",
       "      <td>2</td>\n",
       "    </tr>\n",
       "    <tr>\n",
       "      <th>4333</th>\n",
       "      <td>0.214688</td>\n",
       "      <td>-0.163210</td>\n",
       "      <td>-0.009282</td>\n",
       "      <td>18287</td>\n",
       "      <td>0</td>\n",
       "    </tr>\n",
       "  </tbody>\n",
       "</table>\n",
       "<p>4334 rows × 5 columns</p>\n",
       "</div>"
      ],
      "text/plain": [
       "       recency  frequency  monetary value  CustomerID  cluster\n",
       "0    -0.987601  -0.425192       -0.229930       12346        0\n",
       "1     1.772371   0.360754        0.287679       12347        0\n",
       "2     1.152323  -0.032219       -0.057325       12348        0\n",
       "3    -0.987601  -0.425192       -0.054885       12349        0\n",
       "4    -0.987601  -0.425192       -0.194574       12350        0\n",
       "...        ...        ...             ...         ...      ...\n",
       "4329 -0.987601  -0.425192       -0.208241       18280        0\n",
       "4330 -0.987601  -0.425192       -0.220224       18281        0\n",
       "4331 -0.095336  -0.294201       -0.208721       18282        0\n",
       "4332  1.530401   1.539674        0.015013       18283        2\n",
       "4333  0.214688  -0.163210       -0.009282       18287        0\n",
       "\n",
       "[4334 rows x 5 columns]"
      ]
     },
     "execution_count": 92,
     "metadata": {},
     "output_type": "execute_result"
    }
   ],
   "source": [
    "df_rfm_data_scale['cluster']=y_predicted\n",
    "df_rfm_data_scale"
   ]
  },
  {
   "cell_type": "code",
   "execution_count": null,
   "metadata": {},
   "outputs": [
    {
     "data": {
      "text/plain": [
       "0    4115\n",
       "2     207\n",
       "1      12\n",
       "Name: cluster, dtype: int64"
      ]
     },
     "execution_count": 93,
     "metadata": {},
     "output_type": "execute_result"
    }
   ],
   "source": [
    "df_rfm_data_scale[\"cluster\"].value_counts()"
   ]
  },
  {
   "cell_type": "code",
   "execution_count": null,
   "metadata": {},
   "outputs": [],
   "source": [
    "rfm_data1 =df_rfm_data_scale[y_predicted==0]\n",
    "rfm_data2 =df_rfm_data_scale[y_predicted==1]\n",
    "rfm_data3 =df_rfm_data_scale[y_predicted==2]"
   ]
  },
  {
   "cell_type": "code",
   "execution_count": null,
   "metadata": {},
   "outputs": [
    {
     "data": {
      "text/html": [
       "<div>\n",
       "<style scoped>\n",
       "    .dataframe tbody tr th:only-of-type {\n",
       "        vertical-align: middle;\n",
       "    }\n",
       "\n",
       "    .dataframe tbody tr th {\n",
       "        vertical-align: top;\n",
       "    }\n",
       "\n",
       "    .dataframe thead th {\n",
       "        text-align: right;\n",
       "    }\n",
       "</style>\n",
       "<table border=\"1\" class=\"dataframe\">\n",
       "  <thead>\n",
       "    <tr style=\"text-align: right;\">\n",
       "      <th></th>\n",
       "      <th>recency</th>\n",
       "      <th>frequency</th>\n",
       "      <th>monetary value</th>\n",
       "    </tr>\n",
       "    <tr>\n",
       "      <th>CustomerID</th>\n",
       "      <th></th>\n",
       "      <th></th>\n",
       "      <th></th>\n",
       "    </tr>\n",
       "  </thead>\n",
       "  <tbody>\n",
       "    <tr>\n",
       "      <th>12346</th>\n",
       "      <td>0.0</td>\n",
       "      <td>1</td>\n",
       "      <td>0.00</td>\n",
       "    </tr>\n",
       "    <tr>\n",
       "      <th>12347</th>\n",
       "      <td>365.0</td>\n",
       "      <td>7</td>\n",
       "      <td>4310.00</td>\n",
       "    </tr>\n",
       "    <tr>\n",
       "      <th>12348</th>\n",
       "      <td>283.0</td>\n",
       "      <td>4</td>\n",
       "      <td>1437.24</td>\n",
       "    </tr>\n",
       "    <tr>\n",
       "      <th>12349</th>\n",
       "      <td>0.0</td>\n",
       "      <td>1</td>\n",
       "      <td>1457.55</td>\n",
       "    </tr>\n",
       "    <tr>\n",
       "      <th>12350</th>\n",
       "      <td>0.0</td>\n",
       "      <td>1</td>\n",
       "      <td>294.40</td>\n",
       "    </tr>\n",
       "    <tr>\n",
       "      <th>...</th>\n",
       "      <td>...</td>\n",
       "      <td>...</td>\n",
       "      <td>...</td>\n",
       "    </tr>\n",
       "    <tr>\n",
       "      <th>18280</th>\n",
       "      <td>0.0</td>\n",
       "      <td>1</td>\n",
       "      <td>180.60</td>\n",
       "    </tr>\n",
       "    <tr>\n",
       "      <th>18281</th>\n",
       "      <td>0.0</td>\n",
       "      <td>1</td>\n",
       "      <td>80.82</td>\n",
       "    </tr>\n",
       "    <tr>\n",
       "      <th>18282</th>\n",
       "      <td>118.0</td>\n",
       "      <td>2</td>\n",
       "      <td>176.60</td>\n",
       "    </tr>\n",
       "    <tr>\n",
       "      <th>18283</th>\n",
       "      <td>333.0</td>\n",
       "      <td>16</td>\n",
       "      <td>2039.58</td>\n",
       "    </tr>\n",
       "    <tr>\n",
       "      <th>18287</th>\n",
       "      <td>159.0</td>\n",
       "      <td>3</td>\n",
       "      <td>1837.28</td>\n",
       "    </tr>\n",
       "  </tbody>\n",
       "</table>\n",
       "<p>4334 rows × 3 columns</p>\n",
       "</div>"
      ],
      "text/plain": [
       "            recency  frequency  monetary value\n",
       "CustomerID                                    \n",
       "12346           0.0          1            0.00\n",
       "12347         365.0          7         4310.00\n",
       "12348         283.0          4         1437.24\n",
       "12349           0.0          1         1457.55\n",
       "12350           0.0          1          294.40\n",
       "...             ...        ...             ...\n",
       "18280           0.0          1          180.60\n",
       "18281           0.0          1           80.82\n",
       "18282         118.0          2          176.60\n",
       "18283         333.0         16         2039.58\n",
       "18287         159.0          3         1837.28\n",
       "\n",
       "[4334 rows x 3 columns]"
      ]
     },
     "execution_count": 96,
     "metadata": {},
     "output_type": "execute_result"
    }
   ],
   "source": [
    "rfm_final"
   ]
  },
  {
   "cell_type": "markdown",
   "metadata": {},
   "source": [
    "### DBSCAN"
   ]
  },
  {
   "cell_type": "code",
   "execution_count": null,
   "metadata": {},
   "outputs": [
    {
     "data": {
      "text/html": [
       "<div>\n",
       "<style scoped>\n",
       "    .dataframe tbody tr th:only-of-type {\n",
       "        vertical-align: middle;\n",
       "    }\n",
       "\n",
       "    .dataframe tbody tr th {\n",
       "        vertical-align: top;\n",
       "    }\n",
       "\n",
       "    .dataframe thead th {\n",
       "        text-align: right;\n",
       "    }\n",
       "</style>\n",
       "<table border=\"1\" class=\"dataframe\">\n",
       "  <thead>\n",
       "    <tr style=\"text-align: right;\">\n",
       "      <th></th>\n",
       "      <th>recency</th>\n",
       "      <th>frequency</th>\n",
       "      <th>monetary value</th>\n",
       "    </tr>\n",
       "  </thead>\n",
       "  <tbody>\n",
       "    <tr>\n",
       "      <th>0</th>\n",
       "      <td>-0.987601</td>\n",
       "      <td>-0.425192</td>\n",
       "      <td>-0.229930</td>\n",
       "    </tr>\n",
       "    <tr>\n",
       "      <th>1</th>\n",
       "      <td>1.772371</td>\n",
       "      <td>0.360754</td>\n",
       "      <td>0.287679</td>\n",
       "    </tr>\n",
       "    <tr>\n",
       "      <th>2</th>\n",
       "      <td>1.152323</td>\n",
       "      <td>-0.032219</td>\n",
       "      <td>-0.057325</td>\n",
       "    </tr>\n",
       "    <tr>\n",
       "      <th>3</th>\n",
       "      <td>-0.987601</td>\n",
       "      <td>-0.425192</td>\n",
       "      <td>-0.054885</td>\n",
       "    </tr>\n",
       "    <tr>\n",
       "      <th>4</th>\n",
       "      <td>-0.987601</td>\n",
       "      <td>-0.425192</td>\n",
       "      <td>-0.194574</td>\n",
       "    </tr>\n",
       "    <tr>\n",
       "      <th>...</th>\n",
       "      <td>...</td>\n",
       "      <td>...</td>\n",
       "      <td>...</td>\n",
       "    </tr>\n",
       "    <tr>\n",
       "      <th>4329</th>\n",
       "      <td>-0.987601</td>\n",
       "      <td>-0.425192</td>\n",
       "      <td>-0.208241</td>\n",
       "    </tr>\n",
       "    <tr>\n",
       "      <th>4330</th>\n",
       "      <td>-0.987601</td>\n",
       "      <td>-0.425192</td>\n",
       "      <td>-0.220224</td>\n",
       "    </tr>\n",
       "    <tr>\n",
       "      <th>4331</th>\n",
       "      <td>-0.095336</td>\n",
       "      <td>-0.294201</td>\n",
       "      <td>-0.208721</td>\n",
       "    </tr>\n",
       "    <tr>\n",
       "      <th>4332</th>\n",
       "      <td>1.530401</td>\n",
       "      <td>1.539674</td>\n",
       "      <td>0.015013</td>\n",
       "    </tr>\n",
       "    <tr>\n",
       "      <th>4333</th>\n",
       "      <td>0.214688</td>\n",
       "      <td>-0.163210</td>\n",
       "      <td>-0.009282</td>\n",
       "    </tr>\n",
       "  </tbody>\n",
       "</table>\n",
       "<p>4334 rows × 3 columns</p>\n",
       "</div>"
      ],
      "text/plain": [
       "       recency  frequency  monetary value\n",
       "0    -0.987601  -0.425192       -0.229930\n",
       "1     1.772371   0.360754        0.287679\n",
       "2     1.152323  -0.032219       -0.057325\n",
       "3    -0.987601  -0.425192       -0.054885\n",
       "4    -0.987601  -0.425192       -0.194574\n",
       "...        ...        ...             ...\n",
       "4329 -0.987601  -0.425192       -0.208241\n",
       "4330 -0.987601  -0.425192       -0.220224\n",
       "4331 -0.095336  -0.294201       -0.208721\n",
       "4332  1.530401   1.539674        0.015013\n",
       "4333  0.214688  -0.163210       -0.009282\n",
       "\n",
       "[4334 rows x 3 columns]"
      ]
     },
     "execution_count": 13,
     "metadata": {},
     "output_type": "execute_result"
    }
   ],
   "source": [
    "df_rfm_data_scale"
   ]
  },
  {
   "cell_type": "code",
   "execution_count": null,
   "metadata": {},
   "outputs": [
    {
     "data": {
      "text/plain": [
       "array([[-0.98760132, -0.42519207, -0.22992981],\n",
       "       [ 1.77237149,  0.36075437,  0.28767923],\n",
       "       [ 1.1523228 , -0.03221885, -0.05732461],\n",
       "       ...,\n",
       "       [-0.09533614, -0.294201  , -0.20872105],\n",
       "       [ 1.53040127,  1.53967404,  0.01501336],\n",
       "       [ 0.2146882 , -0.16320992, -0.00928184]])"
      ]
     },
     "execution_count": 14,
     "metadata": {},
     "output_type": "execute_result"
    }
   ],
   "source": [
    "from sklearn.cluster import DBSCAN\n",
    "x=df_rfm_data_scale.iloc[:,0:3].values\n",
    "x"
   ]
  },
  {
   "cell_type": "code",
   "execution_count": null,
   "metadata": {},
   "outputs": [
    {
     "data": {
      "text/plain": [
       "(4334, 3)"
      ]
     },
     "execution_count": 15,
     "metadata": {},
     "output_type": "execute_result"
    }
   ],
   "source": [
    "x.shape"
   ]
  },
  {
   "cell_type": "code",
   "execution_count": null,
   "metadata": {},
   "outputs": [
    {
     "data": {
      "text/plain": [
       "array([[-0.98760132, -0.42519207, -0.22992981],\n",
       "       [ 1.77237149,  0.36075437,  0.28767923],\n",
       "       [ 1.1523228 , -0.03221885, -0.05732461],\n",
       "       ...,\n",
       "       [-0.09533614, -0.294201  , -0.20872105],\n",
       "       [ 1.53040127,  1.53967404,  0.01501336],\n",
       "       [ 0.2146882 , -0.16320992, -0.00928184]])"
      ]
     },
     "execution_count": 16,
     "metadata": {},
     "output_type": "execute_result"
    }
   ],
   "source": [
    "scaler = StandardScaler()\n",
    "scaled_X = scaler.fit_transform(rfm_final) \n",
    "scaled_X"
   ]
  },
  {
   "cell_type": "code",
   "execution_count": null,
   "metadata": {},
   "outputs": [],
   "source": [
    "number_of_outliers=[]\n",
    "percentage_of_outliers=[]\n",
    "#min_samples starting point:2*no.of dimension\n",
    "min_samples = 2 * scaled_X.shape[1]\n",
    "for eps in np.linspace(0.001, 3, 50):\n",
    "   #model creation\n",
    "    dbscan = DBSCAN(eps=eps, min_samples=min_samples)\n",
    "    dbscan.fit(scaled_X)\n",
    "   #Number of clusters\n",
    "    number_of_outliers.append(np.sum(dbscan.labels_ == -1))\n",
    "   #Percentage of points classified as outliers\n",
    "    perc_outliers=100*np.sum(dbscan.labels_==-1) / len(dbscan.labels_)\n",
    "    percentage_of_outliers.append (perc_outliers)"
   ]
  },
  {
   "cell_type": "code",
   "execution_count": null,
   "metadata": {},
   "outputs": [
    {
     "data": {
      "image/png": "[encoded data removed]",
      "text/plain": [
       "<Figure size 432x288 with 1 Axes>"
      ]
     },
     "metadata": {
      "needs_background": "light"
     },
     "output_type": "display_data"
    }
   ],
   "source": [
    "sns.lineplot(x=np.linspace(0.001, 3, 50), y=percentage_of_outliers);\n",
    "plt.xlabel('Epsilon Value')\n",
    "plt.ylabel('Percentage of Outliers');"
   ]
  },
  {
   "cell_type": "code",
   "execution_count": null,
   "metadata": {},
   "outputs": [],
   "source": [
    "min_samples=2*scaled_X.shape[1]\n",
    "dbscan = DBSCAN(eps=0.15, min_samples=min_samples) "
   ]
  },
  {
   "cell_type": "code",
   "execution_count": null,
   "metadata": {},
   "outputs": [
    {
     "data": {
      "text/plain": [
       "DBSCAN(eps=0.15, min_samples=6)"
      ]
     },
     "execution_count": 36,
     "metadata": {},
     "output_type": "execute_result"
    }
   ],
   "source": [
    "dbscan.fit(scaled_X)"
   ]
  },
  {
   "cell_type": "code",
   "execution_count": null,
   "metadata": {},
   "outputs": [],
   "source": [
    "db=DBSCAN(eps=0.15,min_samples=6,metric='euclidean')"
   ]
  },
  {
   "cell_type": "code",
   "execution_count": null,
   "metadata": {},
   "outputs": [],
   "source": [
    "model=db.fit(x)"
   ]
  },
  {
   "cell_type": "code",
   "execution_count": null,
   "metadata": {},
   "outputs": [],
   "source": [
    "label=model.labels_"
   ]
  },
  {
   "cell_type": "code",
   "execution_count": null,
   "metadata": {},
   "outputs": [
    {
     "data": {
      "text/plain": [
       "array([ 0,  0,  0, ...,  0, -1,  0])"
      ]
     },
     "execution_count": 40,
     "metadata": {},
     "output_type": "execute_result"
    }
   ],
   "source": [
    "label"
   ]
  },
  {
   "cell_type": "code",
   "execution_count": null,
   "metadata": {},
   "outputs": [
    {
     "name": "stdout",
     "output_type": "stream",
     "text": [
      "No of clusters: 3\n"
     ]
    }
   ],
   "source": [
    "from sklearn import metrics\n",
    "\n",
    "#identifying the points which makes up our core points\n",
    "sample_cores=np.zeros_like(label,dtype=bool)\n",
    "\n",
    "sample_cores[db.core_sample_indices_]=True\n",
    "\n",
    "#Calculating the number of clusters\n",
    "\n",
    "n_clusters=len(set(label))- (1 if -1 in label else 0)\n",
    "print('No of clusters:',n_clusters)"
   ]
  },
  {
   "cell_type": "code",
   "execution_count": null,
   "metadata": {},
   "outputs": [
    {
     "data": {
      "image/png": "[encoded data removed]",
      "text/plain": [
       "<Figure size 504x360 with 1 Axes>"
      ]
     },
     "metadata": {
      "needs_background": "light"
     },
     "output_type": "display_data"
    }
   ],
   "source": [
    "y_means = db.fit_predict(x)\n",
    "plt.figure(figsize=(7,5))\n",
    "plt.scatter(x[y_means == 0, 0], x[y_means == 0, 1], s = 50, c = 'red')\n",
    "plt.scatter(x[y_means == 1, 0], x[y_means == 1, 1], s = 50, c = 'green')\n",
    "plt.scatter(x[y_means == 2, 0], x[y_means == 2, 1], s = 50, c = 'blue')\n",
    "plt.show()"
   ]
  }
 ],
 "metadata": {
  "interpreter": {
   "hash": "aee8b7b246df8f9039afb4144a1f6fd8d2ca17a180786b69acc140d282b71a49"
  },
  "kernelspec": {
   "display_name": "Python 3.8.10 64-bit",
   "language": "python",
   "name": "python3"
  },
  "language_info": {
   "codemirror_mode": {
    "name": "ipython",
    "version": 3
   },
   "file_extension": ".py",
   "mimetype": "text/x-python",
   "name": "python",
   "nbconvert_exporter": "python",
   "pygments_lexer": "ipython3",
   "version": "3.8.10"
  }
 },
 "nbformat": 4,
 "nbformat_minor": 4
}
