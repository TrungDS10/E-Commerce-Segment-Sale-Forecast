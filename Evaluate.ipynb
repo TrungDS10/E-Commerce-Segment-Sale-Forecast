{
 "cells": [
  {
   "cell_type": "markdown",
   "metadata": {
    "_uuid": "f5e27eb3130f947276d276a1bfb83c0f2640c4e6"
   },
   "source": [
    "# 1. Importing the useful libraries"
   ]
  },
  {
   "cell_type": "code",
   "execution_count": 20,
   "metadata": {
    "_kg_hide-input": true,
    "_uuid": "bc8f2573c61bd8a8ef4dfb751c8a67c4f898adf2"
   },
   "outputs": [],
   "source": [
    "# Importation of useful libraries\n",
    "import pandas as pd\n",
    "import numpy as np\n",
    "import re\n",
    "from sklearn.model_selection import train_test_split"
   ]
  },
  {
   "cell_type": "code",
   "execution_count": 21,
   "metadata": {},
   "outputs": [
    {
     "data": {
      "text/html": [
       "<div>\n",
       "<style scoped>\n",
       "    .dataframe tbody tr th:only-of-type {\n",
       "        vertical-align: middle;\n",
       "    }\n",
       "\n",
       "    .dataframe tbody tr th {\n",
       "        vertical-align: top;\n",
       "    }\n",
       "\n",
       "    .dataframe thead th {\n",
       "        text-align: right;\n",
       "    }\n",
       "</style>\n",
       "<table border=\"1\" class=\"dataframe\">\n",
       "  <thead>\n",
       "    <tr style=\"text-align: right;\">\n",
       "      <th></th>\n",
       "      <th>CustomerID</th>\n",
       "      <th>StockCode</th>\n",
       "    </tr>\n",
       "  </thead>\n",
       "  <tbody>\n",
       "    <tr>\n",
       "      <th>0</th>\n",
       "      <td>12346</td>\n",
       "      <td>['23166']</td>\n",
       "    </tr>\n",
       "    <tr>\n",
       "      <th>1</th>\n",
       "      <td>12347</td>\n",
       "      <td>['17021', '85178', '21976', '23175', '84559B',...</td>\n",
       "    </tr>\n",
       "    <tr>\n",
       "      <th>2</th>\n",
       "      <td>12348</td>\n",
       "      <td>['23078', '84991', '84988', '23076', '21211', ...</td>\n",
       "    </tr>\n",
       "    <tr>\n",
       "      <th>3</th>\n",
       "      <td>12349</td>\n",
       "      <td>['23113', '20685', '23108', '22553', '35970', ...</td>\n",
       "    </tr>\n",
       "    <tr>\n",
       "      <th>4</th>\n",
       "      <td>12350</td>\n",
       "      <td>['22620', '20652', '21915', '22348', '20615', ...</td>\n",
       "    </tr>\n",
       "    <tr>\n",
       "      <th>...</th>\n",
       "      <td>...</td>\n",
       "      <td>...</td>\n",
       "    </tr>\n",
       "    <tr>\n",
       "      <th>4329</th>\n",
       "      <td>18280</td>\n",
       "      <td>['22084', '22467', '22727', '22495', '82484', ...</td>\n",
       "    </tr>\n",
       "    <tr>\n",
       "      <th>4330</th>\n",
       "      <td>18281</td>\n",
       "      <td>['22028', '22467', '22716', '23007', '23209', ...</td>\n",
       "    </tr>\n",
       "    <tr>\n",
       "      <th>4331</th>\n",
       "      <td>18282</td>\n",
       "      <td>['22699', '21108', '23295', '23187', '21270', ...</td>\n",
       "    </tr>\n",
       "    <tr>\n",
       "      <th>4332</th>\n",
       "      <td>18283</td>\n",
       "      <td>['23551', '23581', '21890', '21929', '22367', ...</td>\n",
       "    </tr>\n",
       "    <tr>\n",
       "      <th>4333</th>\n",
       "      <td>18287</td>\n",
       "      <td>['23078', '23376', '23264', '22582', '23076', ...</td>\n",
       "    </tr>\n",
       "  </tbody>\n",
       "</table>\n",
       "<p>4334 rows × 2 columns</p>\n",
       "</div>"
      ],
      "text/plain": [
       "      CustomerID                                          StockCode\n",
       "0          12346                                          ['23166']\n",
       "1          12347  ['17021', '85178', '21976', '23175', '84559B',...\n",
       "2          12348  ['23078', '84991', '84988', '23076', '21211', ...\n",
       "3          12349  ['23113', '20685', '23108', '22553', '35970', ...\n",
       "4          12350  ['22620', '20652', '21915', '22348', '20615', ...\n",
       "...          ...                                                ...\n",
       "4329       18280  ['22084', '22467', '22727', '22495', '82484', ...\n",
       "4330       18281  ['22028', '22467', '22716', '23007', '23209', ...\n",
       "4331       18282  ['22699', '21108', '23295', '23187', '21270', ...\n",
       "4332       18283  ['23551', '23581', '21890', '21929', '22367', ...\n",
       "4333       18287  ['23078', '23376', '23264', '22582', '23076', ...\n",
       "\n",
       "[4334 rows x 2 columns]"
      ]
     },
     "execution_count": 21,
     "metadata": {},
     "output_type": "execute_result"
    }
   ],
   "source": [
    "basket = pd.read_csv('basket.csv')\n",
    "basket"
   ]
  },
  {
   "cell_type": "markdown",
   "metadata": {},
   "source": [
    "#### Remmove Punctuation in StockCode"
   ]
  },
  {
   "cell_type": "code",
   "execution_count": 22,
   "metadata": {},
   "outputs": [
    {
     "name": "stderr",
     "output_type": "stream",
     "text": [
      "C:\\Users\\Admins\\AppData\\Local\\Temp/ipykernel_10412/2075465518.py:1: FutureWarning: The default value of regex will change from True to False in a future version.\n",
      "  basket['StockCode'] = basket['StockCode'].str.replace(r'[^\\w\\s]+', '')\n"
     ]
    },
    {
     "data": {
      "text/html": [
       "<div>\n",
       "<style scoped>\n",
       "    .dataframe tbody tr th:only-of-type {\n",
       "        vertical-align: middle;\n",
       "    }\n",
       "\n",
       "    .dataframe tbody tr th {\n",
       "        vertical-align: top;\n",
       "    }\n",
       "\n",
       "    .dataframe thead th {\n",
       "        text-align: right;\n",
       "    }\n",
       "</style>\n",
       "<table border=\"1\" class=\"dataframe\">\n",
       "  <thead>\n",
       "    <tr style=\"text-align: right;\">\n",
       "      <th></th>\n",
       "      <th>CustomerID</th>\n",
       "      <th>StockCode</th>\n",
       "    </tr>\n",
       "  </thead>\n",
       "  <tbody>\n",
       "    <tr>\n",
       "      <th>0</th>\n",
       "      <td>12346</td>\n",
       "      <td>23166</td>\n",
       "    </tr>\n",
       "    <tr>\n",
       "      <th>1</th>\n",
       "      <td>12347</td>\n",
       "      <td>17021 85178 21976 23175 84559B 84997B 22697 23...</td>\n",
       "    </tr>\n",
       "    <tr>\n",
       "      <th>2</th>\n",
       "      <td>12348</td>\n",
       "      <td>23078 84991 84988 23076 21211 23077 21982 2295...</td>\n",
       "    </tr>\n",
       "    <tr>\n",
       "      <th>3</th>\n",
       "      <td>12349</td>\n",
       "      <td>23113 20685 23108 22553 35970 23295 37500 2272...</td>\n",
       "    </tr>\n",
       "    <tr>\n",
       "      <th>4</th>\n",
       "      <td>12350</td>\n",
       "      <td>22620 20652 21915 22348 20615 21866 79191C 225...</td>\n",
       "    </tr>\n",
       "    <tr>\n",
       "      <th>...</th>\n",
       "      <td>...</td>\n",
       "      <td>...</td>\n",
       "    </tr>\n",
       "    <tr>\n",
       "      <th>4329</th>\n",
       "      <td>18280</td>\n",
       "      <td>22084 22467 22727 22495 82484 22725 22358 2261...</td>\n",
       "    </tr>\n",
       "    <tr>\n",
       "      <th>4330</th>\n",
       "      <td>18281</td>\n",
       "      <td>22028 22467 22716 23007 23209 23008 22037</td>\n",
       "    </tr>\n",
       "    <tr>\n",
       "      <th>4331</th>\n",
       "      <td>18282</td>\n",
       "      <td>22699 21108 23295 23187 21270 23174 22423 2208...</td>\n",
       "    </tr>\n",
       "    <tr>\n",
       "      <th>4332</th>\n",
       "      <td>18283</td>\n",
       "      <td>23551 23581 21890 21929 22367 22720 22385 2329...</td>\n",
       "    </tr>\n",
       "    <tr>\n",
       "      <th>4333</th>\n",
       "      <td>18287</td>\n",
       "      <td>23078 23376 23264 22582 23076 22603 22600 2148...</td>\n",
       "    </tr>\n",
       "  </tbody>\n",
       "</table>\n",
       "<p>4334 rows × 2 columns</p>\n",
       "</div>"
      ],
      "text/plain": [
       "      CustomerID                                          StockCode\n",
       "0          12346                                              23166\n",
       "1          12347  17021 85178 21976 23175 84559B 84997B 22697 23...\n",
       "2          12348  23078 84991 84988 23076 21211 23077 21982 2295...\n",
       "3          12349  23113 20685 23108 22553 35970 23295 37500 2272...\n",
       "4          12350  22620 20652 21915 22348 20615 21866 79191C 225...\n",
       "...          ...                                                ...\n",
       "4329       18280  22084 22467 22727 22495 82484 22725 22358 2261...\n",
       "4330       18281          22028 22467 22716 23007 23209 23008 22037\n",
       "4331       18282  22699 21108 23295 23187 21270 23174 22423 2208...\n",
       "4332       18283  23551 23581 21890 21929 22367 22720 22385 2329...\n",
       "4333       18287  23078 23376 23264 22582 23076 22603 22600 2148...\n",
       "\n",
       "[4334 rows x 2 columns]"
      ]
     },
     "execution_count": 22,
     "metadata": {},
     "output_type": "execute_result"
    }
   ],
   "source": [
    "basket['StockCode'] = basket['StockCode'].str.replace(r'[^\\w\\s]+', '')\n",
    "basket"
   ]
  },
  {
   "cell_type": "markdown",
   "metadata": {},
   "source": [
    "# 2. Create crucial function "
   ]
  },
  {
   "cell_type": "code",
   "execution_count": 23,
   "metadata": {},
   "outputs": [],
   "source": [
    "def list_rule(data):\n",
    "    list_condition = []\n",
    "    list_result = []\n",
    "    for rule_index in range(len(data)):\n",
    "\n",
    "        condition = []\n",
    "        result = []\n",
    "        for condition_index in range(len(data['Condition'][rule_index].split())):\n",
    "            for result_index in range(len(data['Result'][rule_index].split())):\n",
    "                condition.append(data['Condition'][rule_index].split()[condition_index])\n",
    "                result.append(data['Result'][rule_index].split()[result_index])\n",
    "        list_condition.append(set(condition))\n",
    "        list_result.append(set(result))\n",
    "    return list_condition,list_result"
   ]
  },
  {
   "cell_type": "code",
   "execution_count": 24,
   "metadata": {},
   "outputs": [],
   "source": [
    "def compute_accur_each_basket(data,list_condition,list_result):\n",
    "    accuracy = {sentences: [0] for sentences in range(len(data))}\n",
    "    # sum = len(list_result)\n",
    "    for basket_index in range(len(data)):\n",
    "        list_stockcode = []\n",
    "\n",
    "        for i in range(len(data['StockCode'][basket_index].split())):\n",
    "            list_stockcode.append(data['StockCode'][basket_index].split()[i])\n",
    "\n",
    "        count = 0 \n",
    "        have_condition = 0 \n",
    "\n",
    "        for i in range(len(list_condition)):\n",
    "            if (list_condition[i]).issubset(set(list_stockcode)):\n",
    "                have_condition += 1\n",
    "                if (list_result[i]).issubset(set(list_stockcode)):\n",
    "                    count += 1\n",
    "        if (count == 0) and (have_condition == 0):\n",
    "            accuracy[basket_index] = 1\n",
    "        else:\n",
    "            accuracy[basket_index] = count/have_condition\n",
    "    return accuracy"
   ]
  },
  {
   "cell_type": "code",
   "execution_count": 25,
   "metadata": {},
   "outputs": [],
   "source": [
    "def evaluate_model(accuracy):\n",
    "    total_accuracy = 0\n",
    "    for i in range(len(accuracy)):\n",
    "        total_accuracy += accuracy[i]\n",
    "    percent = total_accuracy/len(accuracy)\n",
    "    print('Model accuracy ', percent*100,'%')"
   ]
  },
  {
   "cell_type": "markdown",
   "metadata": {
    "_uuid": "0b372d5e82e2df1b10aeffaa24098a94ccceb63c"
   },
   "source": [
    "## Evaluate without clustering"
   ]
  },
  {
   "cell_type": "code",
   "execution_count": 26,
   "metadata": {},
   "outputs": [
    {
     "data": {
      "text/html": [
       "<div>\n",
       "<style scoped>\n",
       "    .dataframe tbody tr th:only-of-type {\n",
       "        vertical-align: middle;\n",
       "    }\n",
       "\n",
       "    .dataframe tbody tr th {\n",
       "        vertical-align: top;\n",
       "    }\n",
       "\n",
       "    .dataframe thead th {\n",
       "        text-align: right;\n",
       "    }\n",
       "</style>\n",
       "<table border=\"1\" class=\"dataframe\">\n",
       "  <thead>\n",
       "    <tr style=\"text-align: right;\">\n",
       "      <th></th>\n",
       "      <th>Condition</th>\n",
       "      <th>Result</th>\n",
       "    </tr>\n",
       "  </thead>\n",
       "  <tbody>\n",
       "    <tr>\n",
       "      <th>0</th>\n",
       "      <td>22699 22698</td>\n",
       "      <td>22697</td>\n",
       "    </tr>\n",
       "    <tr>\n",
       "      <th>1</th>\n",
       "      <td>22423 22699 22698</td>\n",
       "      <td>22697</td>\n",
       "    </tr>\n",
       "    <tr>\n",
       "      <th>2</th>\n",
       "      <td>22423 22698</td>\n",
       "      <td>22697</td>\n",
       "    </tr>\n",
       "    <tr>\n",
       "      <th>3</th>\n",
       "      <td>22698</td>\n",
       "      <td>22697</td>\n",
       "    </tr>\n",
       "    <tr>\n",
       "      <th>4</th>\n",
       "      <td>22423 22697 22698</td>\n",
       "      <td>22699</td>\n",
       "    </tr>\n",
       "  </tbody>\n",
       "</table>\n",
       "</div>"
      ],
      "text/plain": [
       "           Condition Result\n",
       "0        22699 22698  22697\n",
       "1  22423 22699 22698  22697\n",
       "2        22423 22698  22697\n",
       "3              22698  22697\n",
       "4  22423 22697 22698  22699"
      ]
     },
     "execution_count": 26,
     "metadata": {},
     "output_type": "execute_result"
    }
   ],
   "source": [
    "rule_without_cluster = pd.read_csv(\"rulecluster_sum-cleaned.csv\")\n",
    "rule_without_cluster.head()"
   ]
  },
  {
   "cell_type": "code",
   "execution_count": 27,
   "metadata": {},
   "outputs": [
    {
     "data": {
      "text/html": [
       "<div>\n",
       "<style scoped>\n",
       "    .dataframe tbody tr th:only-of-type {\n",
       "        vertical-align: middle;\n",
       "    }\n",
       "\n",
       "    .dataframe tbody tr th {\n",
       "        vertical-align: top;\n",
       "    }\n",
       "\n",
       "    .dataframe thead th {\n",
       "        text-align: right;\n",
       "    }\n",
       "</style>\n",
       "<table border=\"1\" class=\"dataframe\">\n",
       "  <thead>\n",
       "    <tr style=\"text-align: right;\">\n",
       "      <th></th>\n",
       "      <th>id</th>\n",
       "      <th>CustomerID</th>\n",
       "      <th>10002</th>\n",
       "      <th>10080</th>\n",
       "      <th>10120</th>\n",
       "      <th>10123C</th>\n",
       "      <th>10124A</th>\n",
       "      <th>10124G</th>\n",
       "      <th>10125</th>\n",
       "      <th>10133</th>\n",
       "      <th>...</th>\n",
       "      <th>90214O</th>\n",
       "      <th>90214P</th>\n",
       "      <th>90214R</th>\n",
       "      <th>90214S</th>\n",
       "      <th>90214T</th>\n",
       "      <th>90214U</th>\n",
       "      <th>90214V</th>\n",
       "      <th>90214W</th>\n",
       "      <th>90214Y</th>\n",
       "      <th>90214Z</th>\n",
       "    </tr>\n",
       "  </thead>\n",
       "  <tbody>\n",
       "    <tr>\n",
       "      <th>0</th>\n",
       "      <td>1</td>\n",
       "      <td>17081</td>\n",
       "      <td>?</td>\n",
       "      <td>?</td>\n",
       "      <td>?</td>\n",
       "      <td>?</td>\n",
       "      <td>?</td>\n",
       "      <td>?</td>\n",
       "      <td>?</td>\n",
       "      <td>?</td>\n",
       "      <td>...</td>\n",
       "      <td>?</td>\n",
       "      <td>?</td>\n",
       "      <td>?</td>\n",
       "      <td>?</td>\n",
       "      <td>?</td>\n",
       "      <td>?</td>\n",
       "      <td>?</td>\n",
       "      <td>?</td>\n",
       "      <td>?</td>\n",
       "      <td>?</td>\n",
       "    </tr>\n",
       "    <tr>\n",
       "      <th>1</th>\n",
       "      <td>2</td>\n",
       "      <td>17082</td>\n",
       "      <td>?</td>\n",
       "      <td>?</td>\n",
       "      <td>?</td>\n",
       "      <td>?</td>\n",
       "      <td>?</td>\n",
       "      <td>?</td>\n",
       "      <td>?</td>\n",
       "      <td>?</td>\n",
       "      <td>...</td>\n",
       "      <td>?</td>\n",
       "      <td>?</td>\n",
       "      <td>?</td>\n",
       "      <td>?</td>\n",
       "      <td>?</td>\n",
       "      <td>?</td>\n",
       "      <td>?</td>\n",
       "      <td>?</td>\n",
       "      <td>?</td>\n",
       "      <td>?</td>\n",
       "    </tr>\n",
       "    <tr>\n",
       "      <th>2</th>\n",
       "      <td>3</td>\n",
       "      <td>17083</td>\n",
       "      <td>?</td>\n",
       "      <td>?</td>\n",
       "      <td>?</td>\n",
       "      <td>?</td>\n",
       "      <td>?</td>\n",
       "      <td>?</td>\n",
       "      <td>?</td>\n",
       "      <td>t</td>\n",
       "      <td>...</td>\n",
       "      <td>?</td>\n",
       "      <td>?</td>\n",
       "      <td>?</td>\n",
       "      <td>?</td>\n",
       "      <td>?</td>\n",
       "      <td>?</td>\n",
       "      <td>?</td>\n",
       "      <td>?</td>\n",
       "      <td>?</td>\n",
       "      <td>?</td>\n",
       "    </tr>\n",
       "    <tr>\n",
       "      <th>3</th>\n",
       "      <td>4</td>\n",
       "      <td>17084</td>\n",
       "      <td>?</td>\n",
       "      <td>?</td>\n",
       "      <td>?</td>\n",
       "      <td>?</td>\n",
       "      <td>?</td>\n",
       "      <td>?</td>\n",
       "      <td>?</td>\n",
       "      <td>?</td>\n",
       "      <td>...</td>\n",
       "      <td>?</td>\n",
       "      <td>?</td>\n",
       "      <td>?</td>\n",
       "      <td>?</td>\n",
       "      <td>?</td>\n",
       "      <td>?</td>\n",
       "      <td>?</td>\n",
       "      <td>?</td>\n",
       "      <td>?</td>\n",
       "      <td>?</td>\n",
       "    </tr>\n",
       "    <tr>\n",
       "      <th>4</th>\n",
       "      <td>5</td>\n",
       "      <td>17085</td>\n",
       "      <td>t</td>\n",
       "      <td>?</td>\n",
       "      <td>?</td>\n",
       "      <td>?</td>\n",
       "      <td>?</td>\n",
       "      <td>?</td>\n",
       "      <td>?</td>\n",
       "      <td>?</td>\n",
       "      <td>...</td>\n",
       "      <td>?</td>\n",
       "      <td>?</td>\n",
       "      <td>?</td>\n",
       "      <td>?</td>\n",
       "      <td>?</td>\n",
       "      <td>?</td>\n",
       "      <td>?</td>\n",
       "      <td>?</td>\n",
       "      <td>?</td>\n",
       "      <td>?</td>\n",
       "    </tr>\n",
       "  </tbody>\n",
       "</table>\n",
       "<p>5 rows × 3661 columns</p>\n",
       "</div>"
      ],
      "text/plain": [
       "   id  CustomerID 10002 10080 10120 10123C 10124A 10124G 10125 10133  ...  \\\n",
       "0   1       17081     ?     ?     ?      ?      ?      ?     ?     ?  ...   \n",
       "1   2       17082     ?     ?     ?      ?      ?      ?     ?     ?  ...   \n",
       "2   3       17083     ?     ?     ?      ?      ?      ?     ?     t  ...   \n",
       "3   4       17084     ?     ?     ?      ?      ?      ?     ?     ?  ...   \n",
       "4   5       17085     t     ?     ?      ?      ?      ?     ?     ?  ...   \n",
       "\n",
       "  90214O 90214P 90214R 90214S 90214T 90214U 90214V 90214W 90214Y 90214Z  \n",
       "0      ?      ?      ?      ?      ?      ?      ?      ?      ?      ?  \n",
       "1      ?      ?      ?      ?      ?      ?      ?      ?      ?      ?  \n",
       "2      ?      ?      ?      ?      ?      ?      ?      ?      ?      ?  \n",
       "3      ?      ?      ?      ?      ?      ?      ?      ?      ?      ?  \n",
       "4      ?      ?      ?      ?      ?      ?      ?      ?      ?      ?  \n",
       "\n",
       "[5 rows x 3661 columns]"
      ]
     },
     "execution_count": 27,
     "metadata": {},
     "output_type": "execute_result"
    }
   ],
   "source": [
    "data_without_test = pd.read_csv(\"csv_result-dfm_done_cluster_test.csv\")\n",
    "data_without_test.head()"
   ]
  },
  {
   "cell_type": "code",
   "execution_count": 28,
   "metadata": {},
   "outputs": [
    {
     "data": {
      "text/plain": [
       "(867, 2)"
      ]
     },
     "execution_count": 28,
     "metadata": {},
     "output_type": "execute_result"
    }
   ],
   "source": [
    "cluster2_test= data_without_test.merge(basket,how='left')\n",
    "cluster2_test = cluster2_test.loc[:,['CustomerID','StockCode']]\n",
    "np.shape(cluster2_test)"
   ]
  },
  {
   "cell_type": "code",
   "execution_count": 29,
   "metadata": {},
   "outputs": [],
   "source": [
    "list_condition,list_result = list_rule(rule_without_cluster)"
   ]
  },
  {
   "cell_type": "code",
   "execution_count": 30,
   "metadata": {},
   "outputs": [],
   "source": [
    "accuracy_without = compute_accur_each_basket(cluster2_test,list_condition,list_result)"
   ]
  },
  {
   "cell_type": "code",
   "execution_count": 31,
   "metadata": {},
   "outputs": [
    {
     "name": "stdout",
     "output_type": "stream",
     "text": [
      "Model accuracy  80.73864978072433 %\n"
     ]
    }
   ],
   "source": [
    "total_accuracy = evaluate_model(accuracy_without)\n",
    "total_accuracy"
   ]
  },
  {
   "cell_type": "markdown",
   "metadata": {},
   "source": [
    "# Evaluate With Clustering"
   ]
  },
  {
   "cell_type": "code",
   "execution_count": 32,
   "metadata": {},
   "outputs": [],
   "source": [
    "cluster0 = pd.read_csv('csv_result-dfm_done_cluster0_test.csv')\n",
    "cluster1 = pd.read_csv('csv_result-dfm_done_cluster1_test.csv')\n",
    "cluster2 = pd.read_csv('csv_result-dfm_done_cluster2_test.csv')"
   ]
  },
  {
   "cell_type": "markdown",
   "metadata": {},
   "source": [
    "#### Cluster 0 "
   ]
  },
  {
   "cell_type": "code",
   "execution_count": 33,
   "metadata": {},
   "outputs": [
    {
     "data": {
      "text/plain": [
       "(823, 2)"
      ]
     },
     "execution_count": 33,
     "metadata": {},
     "output_type": "execute_result"
    }
   ],
   "source": [
    "cluster0_test= cluster0.merge(basket,how='left')\n",
    "cluster0_test = cluster0_test.loc[:,['CustomerID','StockCode']]\n",
    "np.shape(cluster0_test)"
   ]
  },
  {
   "cell_type": "code",
   "execution_count": 34,
   "metadata": {},
   "outputs": [],
   "source": [
    "rule_cluster0 = pd.read_csv('rulecluster0-cleaned.csv')\n",
    "list_condition0,list_result0 = list_rule(rule_cluster0)"
   ]
  },
  {
   "cell_type": "code",
   "execution_count": 35,
   "metadata": {},
   "outputs": [
    {
     "name": "stdout",
     "output_type": "stream",
     "text": [
      "Model accuracy  89.03732388847821 %\n"
     ]
    }
   ],
   "source": [
    "accuracy_cluseter0 = compute_accur_each_basket(cluster0_test,list_condition0,list_result0)\n",
    "total_accuracy0 = evaluate_model(accuracy_cluseter0)\n",
    "total_accuracy0"
   ]
  },
  {
   "cell_type": "markdown",
   "metadata": {},
   "source": [
    "#### Cluster 1"
   ]
  },
  {
   "cell_type": "code",
   "execution_count": 36,
   "metadata": {},
   "outputs": [
    {
     "data": {
      "text/plain": [
       "(2, 2)"
      ]
     },
     "execution_count": 36,
     "metadata": {},
     "output_type": "execute_result"
    }
   ],
   "source": [
    "cluster1_test= cluster1.merge(basket,how='left')\n",
    "cluster1_test = cluster1_test.loc[:,['CustomerID','StockCode']]\n",
    "np.shape(cluster1_test)"
   ]
  },
  {
   "cell_type": "code",
   "execution_count": 37,
   "metadata": {},
   "outputs": [],
   "source": [
    "rule_cluster1 = pd.read_csv('rulecluster1-cleaned.csv')\n",
    "list_condition1,list_result1 = list_rule(rule_cluster1)"
   ]
  },
  {
   "cell_type": "code",
   "execution_count": 38,
   "metadata": {},
   "outputs": [
    {
     "name": "stdout",
     "output_type": "stream",
     "text": [
      "Model accuracy  91.27906976744187 %\n"
     ]
    }
   ],
   "source": [
    "accuracy_cluseter1 = compute_accur_each_basket(cluster1_test,list_condition1,list_result1)\n",
    "total_accuracy1 = evaluate_model(accuracy_cluseter1)\n",
    "total_accuracy1"
   ]
  },
  {
   "cell_type": "markdown",
   "metadata": {},
   "source": [
    "#### Cluster 2"
   ]
  },
  {
   "cell_type": "code",
   "execution_count": 39,
   "metadata": {},
   "outputs": [
    {
     "data": {
      "text/plain": [
       "(41, 2)"
      ]
     },
     "execution_count": 39,
     "metadata": {},
     "output_type": "execute_result"
    }
   ],
   "source": [
    "cluster2_test= cluster2.merge(basket,how='left')\n",
    "cluster2_test = cluster2_test.loc[:,['CustomerID','StockCode']]\n",
    "np.shape(cluster2_test)"
   ]
  },
  {
   "cell_type": "code",
   "execution_count": 40,
   "metadata": {},
   "outputs": [],
   "source": [
    "rule_cluster2 = pd.read_csv('rulecluster2-cleaned.csv')\n",
    "list_condition2,list_result2 = list_rule(rule_cluster2)"
   ]
  },
  {
   "cell_type": "code",
   "execution_count": 41,
   "metadata": {},
   "outputs": [
    {
     "name": "stdout",
     "output_type": "stream",
     "text": [
      "Model accuracy  78.87915742793791 %\n"
     ]
    }
   ],
   "source": [
    "accuracy_cluseter2 = compute_accur_each_basket(cluster2_test,list_condition2,list_result2)\n",
    "total_accuracy2 = evaluate_model(accuracy_cluseter2)\n",
    "total_accuracy2"
   ]
  }
 ],
 "metadata": {
  "interpreter": {
   "hash": "2904bfdf4ffecfbd8718ce604d5c71d2fad643d6171fa9965fb2757a5339e8a9"
  },
  "kernelspec": {
   "display_name": "Python 3.9.7 ('base')",
   "language": "python",
   "name": "python3"
  },
  "language_info": {
   "codemirror_mode": {
    "name": "ipython",
    "version": 3
   },
   "file_extension": ".py",
   "mimetype": "text/x-python",
   "name": "python",
   "nbconvert_exporter": "python",
   "pygments_lexer": "ipython3",
   "version": "3.9.7"
  }
 },
 "nbformat": 4,
 "nbformat_minor": 4
}
